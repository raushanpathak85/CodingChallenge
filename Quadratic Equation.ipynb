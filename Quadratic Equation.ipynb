{
 "cells": [
  {
   "attachments": {
    "image.png": {
     "image/png": "[encoded data removed]"
    }
   },
   "cell_type": "markdown",
   "id": "7cf4673c",
   "metadata": {},
   "source": [
    "Implement the function find_roots to find the roots of the quadratic equation: \n",
    "a * x ^ 2 + bx + c = 0 The function should return a tuple containing roots in any order. \n",
    "If the equation has only one solution, the function should return that solution as both elements of the tuple. \n",
    "The equation will always have at least one solution.\n",
    "The roots of the quadratic equation can be found with the following formula:  ![image.png](attachment:image.png)\n",
    "For example, find_roots (2, 10, 8) should return (-1, -4) or (-4, -1) as \n",
    "the roots of the equation 2x² + 10x + 8 = 0 are-1 and -4."
   ]
  },
  {
   "cell_type": "code",
   "execution_count": 3,
   "id": "1012f4cf",
   "metadata": {},
   "outputs": [
    {
     "data": {
      "text/plain": [
       "(-1, -4)"
      ]
     },
     "execution_count": 3,
     "metadata": {},
     "output_type": "execute_result"
    }
   ],
   "source": [
    "import math\n",
    "\n",
    "def find_root(a,b,c):\n",
    "    \n",
    "    discriminate=b**2 - 4 * a * c\n",
    "    root1= round((-b + math.sqrt(discriminate)) / (2 * a))\n",
    "    root2= round((-b - math.sqrt(discriminate)) / (2 * a))\n",
    "    \n",
    "    return (root1,root2)\n",
    "\n",
    "##call function here.\n",
    "find_root(2,10,8)"
   ]
  },
  {
   "cell_type": "code",
   "execution_count": null,
   "id": "5590bd60",
   "metadata": {},
   "outputs": [],
   "source": []
  }
 ],
 "metadata": {
  "kernelspec": {
   "display_name": "Python 3 (ipykernel)",
   "language": "python",
   "name": "python3"
  },
  "language_info": {
   "codemirror_mode": {
    "name": "ipython",
    "version": 3
   },
   "file_extension": ".py",
   "mimetype": "text/x-python",
   "name": "python",
   "nbconvert_exporter": "python",
   "pygments_lexer": "ipython3",
   "version": "3.10.9"
  }
 },
 "nbformat": 4,
 "nbformat_minor": 5
}
