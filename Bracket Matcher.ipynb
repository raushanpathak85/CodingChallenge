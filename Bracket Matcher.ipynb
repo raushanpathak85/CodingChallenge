{
 "cells": [
  {
   "cell_type": "markdown",
   "id": "66f2a592",
   "metadata": {},
   "source": [
    "Bracket Matcher\n",
    "Have the function BracketMatcher(str) take the str parameter being passed and return 1 if the brackets are correctly matched and each one is accounted for. Otherwise return 0. For example: if str is \"(hello (world))\", then the output should be 1, but if str is \"((hello (world))\" the the output should be 0 because the brackets do not correctly match up. Only \"(\" and \")\" will be used as brackets. If str contains no brackets return 1.\n",
    "Examples\n",
    "Input: \"(coder)(byte))\"\n",
    "Output: 0\n",
    "Input: \"(c(oder)) b(yte)\"\n",
    "Output: 1"
   ]
  },
  {
   "cell_type": "code",
   "execution_count": 12,
   "id": "ef11938f",
   "metadata": {},
   "outputs": [],
   "source": [
    "def BracketMatcher(str):\n",
    "    \n",
    "    left=0\n",
    "    right=0\n",
    "    \n",
    "    for i in range(0,len(str)):\n",
    "        \n",
    "        if str[i] == '(':\n",
    "            left=left+1\n",
    "        elif str[i] == ')':\n",
    "            right=right+1\n",
    "            \n",
    "    if left == right:\n",
    "        return 1\n",
    "    else:\n",
    "        return 0\n",
    "        "
   ]
  },
  {
   "cell_type": "code",
   "execution_count": 14,
   "id": "2fb9df9b",
   "metadata": {},
   "outputs": [
    {
     "data": {
      "text/plain": [
       "1"
      ]
     },
     "execution_count": 14,
     "metadata": {},
     "output_type": "execute_result"
    }
   ],
   "source": [
    "BracketMatcher(\"(hello (world))\")"
   ]
  },
  {
   "cell_type": "code",
   "execution_count": null,
   "id": "d7f670bc",
   "metadata": {},
   "outputs": [],
   "source": []
  }
 ],
 "metadata": {
  "kernelspec": {
   "display_name": "Python 3 (ipykernel)",
   "language": "python",
   "name": "python3"
  },
  "language_info": {
   "codemirror_mode": {
    "name": "ipython",
    "version": 3
   },
   "file_extension": ".py",
   "mimetype": "text/x-python",
   "name": "python",
   "nbconvert_exporter": "python",
   "pygments_lexer": "ipython3",
   "version": "3.10.9"
  }
 },
 "nbformat": 4,
 "nbformat_minor": 5
}
