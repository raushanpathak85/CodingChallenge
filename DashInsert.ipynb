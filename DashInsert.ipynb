{
 "cells": [
  {
   "cell_type": "code",
   "execution_count": null,
   "id": "7b2afdf3",
   "metadata": {},
   "outputs": [],
   "source": [
    "# For this challenge you will be manipulating a string using dashes (-).\n",
    "# Have the function DashInsert(str) insert dashes ('-') between each two odd numbers in str. \n",
    "\n",
    "# For example: if str is 454793 the output should be 4547-9-3. Don't count zero as an odd number. "
   ]
  },
  {
   "cell_type": "code",
   "execution_count": 5,
   "id": "6957bfef",
   "metadata": {},
   "outputs": [],
   "source": [
    "def DashInsert(str):\n",
    "    x=0\n",
    "    temp=''\n",
    "    while x < len(str)-1:\n",
    "        if str[x] in '13579' and str[x+1] in '13579':\n",
    "            temp=str[:x+1] + '-' + str[x+1:]\n",
    "            x=x+1\n",
    "            str=temp\n",
    "        x=x+1\n",
    "    return temp       \n",
    "        \n",
    "        "
   ]
  },
  {
   "cell_type": "code",
   "execution_count": 6,
   "id": "e05f5d02",
   "metadata": {},
   "outputs": [
    {
     "data": {
      "text/plain": [
       "'4547-9-3'"
      ]
     },
     "execution_count": 6,
     "metadata": {},
     "output_type": "execute_result"
    }
   ],
   "source": [
    "DashInsert('454793')"
   ]
  },
  {
   "cell_type": "code",
   "execution_count": null,
   "id": "827e1e3c",
   "metadata": {},
   "outputs": [],
   "source": []
  },
  {
   "cell_type": "code",
   "execution_count": null,
   "id": "899e7cc0",
   "metadata": {},
   "outputs": [],
   "source": []
  }
 ],
 "metadata": {
  "kernelspec": {
   "display_name": "Python 3 (ipykernel)",
   "language": "python",
   "name": "python3"
  },
  "language_info": {
   "codemirror_mode": {
    "name": "ipython",
    "version": 3
   },
   "file_extension": ".py",
   "mimetype": "text/x-python",
   "name": "python",
   "nbconvert_exporter": "python",
   "pygments_lexer": "ipython3",
   "version": "3.10.9"
  }
 },
 "nbformat": 4,
 "nbformat_minor": 5
}
