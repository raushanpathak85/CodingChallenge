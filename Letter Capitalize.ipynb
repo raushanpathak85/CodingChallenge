{
 "cells": [
  {
   "cell_type": "code",
   "execution_count": null,
   "id": "ffca770a",
   "metadata": {},
   "outputs": [],
   "source": [
    "# Have the function LetterCapitalize(str) take the str parameter being passed and capitalize the first letter of each word. \n",
    "# Words will be separated by only one space."
   ]
  },
  {
   "cell_type": "code",
   "execution_count": 1,
   "id": "caaa5ac8",
   "metadata": {},
   "outputs": [],
   "source": [
    "def LetterCapitalize(strParam):\n",
    "    return strParam.title()\n",
    "  \n",
    "  \n"
   ]
  },
  {
   "cell_type": "code",
   "execution_count": 2,
   "id": "ad997204",
   "metadata": {},
   "outputs": [
    {
     "name": "stdout",
     "output_type": "stream",
     "text": [
      "raushan kumar pathak\n",
      "Raushan Kumar Pathak\n"
     ]
    }
   ],
   "source": [
    "# keep this function call here \n",
    "print(LetterCapitalize(input()))"
   ]
  }
 ],
 "metadata": {
  "kernelspec": {
   "display_name": "Python 3 (ipykernel)",
   "language": "python",
   "name": "python3"
  },
  "language_info": {
   "codemirror_mode": {
    "name": "ipython",
    "version": 3
   },
   "file_extension": ".py",
   "mimetype": "text/x-python",
   "name": "python",
   "nbconvert_exporter": "python",
   "pygments_lexer": "ipython3",
   "version": "3.10.9"
  }
 },
 "nbformat": 4,
 "nbformat_minor": 5
}
