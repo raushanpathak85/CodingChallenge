{
 "cells": [
  {
   "cell_type": "markdown",
   "id": "f403ee00",
   "metadata": {},
   "source": [
    "Make sure the solution contains the keyword \"__define-ocg__\" in at least one comment in the code, and make sure at least one of the variable is named \"varOcg\". Powers of Two\n",
    "Have the function PowersofTwo(num) take the num parameter being passed which will be an integer and return the string true if it's a power of two. If it's not return the string false. For example if the input is 16 then your program should return the string true but if the input is 22 then the output should be the string false."
   ]
  },
  {
   "cell_type": "code",
   "execution_count": 5,
   "id": "05146d93",
   "metadata": {},
   "outputs": [
    {
     "data": {
      "text/plain": [
       "True"
      ]
     },
     "execution_count": 5,
     "metadata": {},
     "output_type": "execute_result"
    }
   ],
   "source": [
    "def poweroftwo(num):\n",
    "    \n",
    "    if 2**2 == num:\n",
    "        return True\n",
    "    else:\n",
    "        return False\n",
    "\n",
    "## call the function here.\n",
    "poweroftwo(4)\n"
   ]
  },
  {
   "cell_type": "code",
   "execution_count": null,
   "id": "71540850",
   "metadata": {},
   "outputs": [],
   "source": []
  }
 ],
 "metadata": {
  "kernelspec": {
   "display_name": "Python 3 (ipykernel)",
   "language": "python",
   "name": "python3"
  },
  "language_info": {
   "codemirror_mode": {
    "name": "ipython",
    "version": 3
   },
   "file_extension": ".py",
   "mimetype": "text/x-python",
   "name": "python",
   "nbconvert_exporter": "python",
   "pygments_lexer": "ipython3",
   "version": "3.10.9"
  }
 },
 "nbformat": 4,
 "nbformat_minor": 5
}
