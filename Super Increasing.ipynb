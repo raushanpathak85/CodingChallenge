{
 "cells": [
  {
   "cell_type": "code",
   "execution_count": null,
   "id": "92a0afc5",
   "metadata": {},
   "outputs": [],
   "source": [
    "# Have the function Superincreasing(arr) take the array of numbers stored in arr and \n",
    "# determine if the array forms a superincreasing sequence \n",
    "# where each element in the array is greater than the sum of all previous elements. \n",
    "# The array will only consist of positive integers. \n",
    "# For example: if arr is [1, 3, 6, 13, 54] then your program should return the string \"true\" \n",
    "# because it forms a superincreasing sequence. \n",
    "# If a superincreasing sequence isn't formed, then your program should return the string \"false\""
   ]
  },
  {
   "cell_type": "code",
   "execution_count": 1,
   "id": "b67940af",
   "metadata": {},
   "outputs": [],
   "source": [
    "def Superincreasing(arr):\n",
    "    total=0\n",
    "    \n",
    "    for x in range(len(arr)-1):\n",
    "        total=total+arr[x]\n",
    "        \n",
    "        if total > arr[x+1]:\n",
    "            return False\n",
    "        \n",
    "    return True\n"
   ]
  },
  {
   "cell_type": "code",
   "execution_count": 10,
   "id": "343d8996",
   "metadata": {},
   "outputs": [
    {
     "data": {
      "text/plain": [
       "True"
      ]
     },
     "execution_count": 10,
     "metadata": {},
     "output_type": "execute_result"
    }
   ],
   "source": [
    "Superincreasing([1, 3, 6, 13, 54])\n"
   ]
  },
  {
   "cell_type": "code",
   "execution_count": null,
   "id": "03ec0bd2",
   "metadata": {},
   "outputs": [],
   "source": []
  }
 ],
 "metadata": {
  "kernelspec": {
   "display_name": "Python 3 (ipykernel)",
   "language": "python",
   "name": "python3"
  },
  "language_info": {
   "codemirror_mode": {
    "name": "ipython",
    "version": 3
   },
   "file_extension": ".py",
   "mimetype": "text/x-python",
   "name": "python",
   "nbconvert_exporter": "python",
   "pygments_lexer": "ipython3",
   "version": "3.10.9"
  }
 },
 "nbformat": 4,
 "nbformat_minor": 5
}
