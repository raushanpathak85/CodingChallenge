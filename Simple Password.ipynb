{
 "cells": [
  {
   "cell_type": "code",
   "execution_count": 1,
   "id": "57c27161",
   "metadata": {},
   "outputs": [],
   "source": [
    "# Have the function SimplePassword(str) take the str parameter being passed and determine \n",
    "# if it passes as a valid password that follows the list of constraints:\n",
    "\n",
    "# 1. It must have a capital letter.\n",
    "# 2. It must contain at least one number.\n",
    "# 3. It must contain a punctuation mark or mathematical symbol.\n",
    "# 4. It cannot have the word \"password\" in the string.\n",
    "# 5. It must be longer than 7 characters and shorter than 31 characters.\n",
    "\n",
    "# If all the above constraints are met within the string, the your program should return the string true, \n",
    "# otherwise your program should return the string false. \n",
    "# For example: if str is \"apple!M7\" then your program should return \"true\"."
   ]
  },
  {
   "cell_type": "code",
   "execution_count": 49,
   "id": "cb8d1ca7",
   "metadata": {},
   "outputs": [
    {
     "name": "stdout",
     "output_type": "stream",
     "text": [
      "Enter the Password:apple!M7\n",
      "True\n"
     ]
    }
   ],
   "source": [
    "import string\n",
    "\n",
    "length=lower=capital=digit=punc=False\n",
    "\n",
    "password= input(\"Enter the Password:\")\n",
    "\n",
    "## For punctuation or mathematical symbol\n",
    "s=string.punctuation\n",
    "lst1=[]  \n",
    "for i in s:\n",
    "    lst1.append(i)\n",
    "\n",
    "\n",
    "## Check the condition of entered password\n",
    "if len(password)>=8 and len(password) <=31 and password != \"password\" or password != \"Password\":\n",
    "    length=True\n",
    "    \n",
    "    for letter in password:\n",
    "        if letter.islower():\n",
    "            lower=True\n",
    "        elif letter.isupper():\n",
    "            capital=True\n",
    "        elif letter.isdigit():\n",
    "            digit=True\n",
    "        elif letter in lst1:\n",
    "            punc=True\n",
    "\n",
    "if length and lower and capital and digit and punc:\n",
    "    print(\"True\")\n",
    "else:\n",
    "    print(\"False\")\n",
    "    "
   ]
  },
  {
   "cell_type": "code",
   "execution_count": null,
   "id": "2844a92f",
   "metadata": {},
   "outputs": [],
   "source": []
  },
  {
   "cell_type": "code",
   "execution_count": null,
   "id": "c973a1f3",
   "metadata": {},
   "outputs": [],
   "source": []
  },
  {
   "cell_type": "code",
   "execution_count": null,
   "id": "3e69c5c7",
   "metadata": {},
   "outputs": [],
   "source": []
  },
  {
   "cell_type": "code",
   "execution_count": null,
   "id": "9b3eaa33",
   "metadata": {},
   "outputs": [],
   "source": []
  },
  {
   "cell_type": "code",
   "execution_count": null,
   "id": "b8f2d91d",
   "metadata": {},
   "outputs": [],
   "source": []
  },
  {
   "cell_type": "code",
   "execution_count": null,
   "id": "a8c4563c",
   "metadata": {},
   "outputs": [],
   "source": []
  }
 ],
 "metadata": {
  "kernelspec": {
   "display_name": "Python 3 (ipykernel)",
   "language": "python",
   "name": "python3"
  },
  "language_info": {
   "codemirror_mode": {
    "name": "ipython",
    "version": 3
   },
   "file_extension": ".py",
   "mimetype": "text/x-python",
   "name": "python",
   "nbconvert_exporter": "python",
   "pygments_lexer": "ipython3",
   "version": "3.10.9"
  }
 },
 "nbformat": 4,
 "nbformat_minor": 5
}
