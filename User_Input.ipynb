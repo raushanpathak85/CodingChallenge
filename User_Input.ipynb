{
 "cells": [
  {
   "cell_type": "code",
   "execution_count": null,
   "id": "b333c177",
   "metadata": {},
   "outputs": [],
   "source": [
    "# A user interface contains two types of user input controls: TextInput, which accepts all characters and NumericInput, which accepts only digits.\n",
    "# Implement the class Textinput that contains:\n",
    "# • Method add(self, character) - adds the given character to the current value\n",
    "# • Method get_value(self) - returns the current value\n",
    "# Implement the class NumericInput that:\n",
    "# • Inherits TextInput\n",
    "# • Overrides the add method so that each non-numeric character is ignored\n",
    "# For example, the following code should output \"10\":\n",
    "# input NumericInput()\n",
    "# input.add(\"1\")\n",
    "# input.add(\"a\")\n",
    "# input.add(\"0\")\n",
    "# print(input.get_value())"
   ]
  },
  {
   "cell_type": "code",
   "execution_count": 1,
   "id": "4e3bc6fe",
   "metadata": {},
   "outputs": [
    {
     "name": "stdout",
     "output_type": "stream",
     "text": [
      "10\n"
     ]
    }
   ],
   "source": [
    "class TextInput:\n",
    "    def __init__(self):\n",
    "        self.value = \"\"\n",
    "\n",
    "    def add(self, character):\n",
    "        self.value += character\n",
    "\n",
    "    def get_value(self):\n",
    "        return self.value\n",
    "\n",
    "\n",
    "class NumericInput(TextInput):\n",
    "    def add(self, character):\n",
    "        if character.isdigit():\n",
    "            super().add(character)\n",
    "\n",
    "\n",
    "# Example usage:\n",
    "input = NumericInput()\n",
    "input.add(\"1\")\n",
    "input.add(\"a\")\n",
    "input.add(\"0\")\n",
    "print(input.get_value())  # Output: \"10\""
   ]
  },
  {
   "cell_type": "code",
   "execution_count": null,
   "id": "8df7fcee",
   "metadata": {},
   "outputs": [],
   "source": []
  }
 ],
 "metadata": {
  "kernelspec": {
   "display_name": "Python 3 (ipykernel)",
   "language": "python",
   "name": "python3"
  },
  "language_info": {
   "codemirror_mode": {
    "name": "ipython",
    "version": 3
   },
   "file_extension": ".py",
   "mimetype": "text/x-python",
   "name": "python",
   "nbconvert_exporter": "python",
   "pygments_lexer": "ipython3",
   "version": "3.10.9"
  }
 },
 "nbformat": 4,
 "nbformat_minor": 5
}
