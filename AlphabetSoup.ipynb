{
 "cells": [
  {
   "cell_type": "code",
   "execution_count": null,
   "id": "c9958183",
   "metadata": {},
   "outputs": [],
   "source": [
    "# For this challenge you will be sorting characters in a string.\n",
    "# take the str string parameter being passed and return the string with the letters in alphabetical order\n",
    "# (ie. hello becomes ehllo). Assume numbers and punctuation symbols will not be included in the string. "
   ]
  },
  {
   "cell_type": "code",
   "execution_count": 4,
   "id": "9e4968a9",
   "metadata": {},
   "outputs": [
    {
     "data": {
      "text/plain": [
       "'ceelmow ot my ehmo'"
      ]
     },
     "execution_count": 4,
     "metadata": {},
     "output_type": "execute_result"
    }
   ],
   "source": [
    "def stringConvertToAlphabaticalOrder(s):\n",
    "    words=s.split(' ')\n",
    "    l=[]\n",
    "    for word in words:\n",
    "        temp=sorted(word)\n",
    "        l.append(''.join(temp))\n",
    "    \n",
    "    return (' '.join(l))\n",
    "\n",
    "\n",
    "\n",
    "## Call the function here.\n",
    "stringConvertToAlphabaticalOrder('welcome to my home')\n"
   ]
  },
  {
   "cell_type": "code",
   "execution_count": null,
   "id": "0b3b408f",
   "metadata": {},
   "outputs": [],
   "source": []
  },
  {
   "cell_type": "code",
   "execution_count": null,
   "id": "6ef4b4c0",
   "metadata": {},
   "outputs": [],
   "source": []
  },
  {
   "cell_type": "code",
   "execution_count": null,
   "id": "55c6cd02",
   "metadata": {},
   "outputs": [],
   "source": []
  }
 ],
 "metadata": {
  "kernelspec": {
   "display_name": "Python 3 (ipykernel)",
   "language": "python",
   "name": "python3"
  },
  "language_info": {
   "codemirror_mode": {
    "name": "ipython",
    "version": 3
   },
   "file_extension": ".py",
   "mimetype": "text/x-python",
   "name": "python",
   "nbconvert_exporter": "python",
   "pygments_lexer": "ipython3",
   "version": "3.10.9"
  }
 },
 "nbformat": 4,
 "nbformat_minor": 5
}
