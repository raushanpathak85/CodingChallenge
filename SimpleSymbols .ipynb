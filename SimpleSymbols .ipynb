{
 "cells": [
  {
   "cell_type": "markdown",
   "id": "1a14debf",
   "metadata": {},
   "source": [
    "Have the function SimpleSymbols(str) take the str parameter being passed and determine if it is an acceptable sequence by either returning the string true or false. \n",
    "\n",
    "The str parameter will be composed of + and = symbols with several letters between them (ie. ++d+===+c++==a) and for the string to be true each letter must be surrounded by a + symbol. So the string to the left would be false. The string will not be empty and will have at least one letter. \n",
    "\n",
    "Use the Parameter Testing feature in the box below to test your code with different arguments."
   ]
  },
  {
   "cell_type": "code",
   "execution_count": 17,
   "id": "a69872ac",
   "metadata": {},
   "outputs": [],
   "source": [
    "def SimpleSymbols(s):\n",
    "    \n",
    "    arr=list(s.lower())\n",
    "    for i in range(len(arr)):\n",
    "        if arr[i].isalpha():\n",
    "            if i == 0 or i==len(arr)-1:\n",
    "                return False\n",
    "            if arr[i-1] != '+' or arr[i+1] != '+':\n",
    "                return False\n",
    "    return True"
   ]
  },
  {
   "cell_type": "code",
   "execution_count": 19,
   "id": "ac6fd744",
   "metadata": {},
   "outputs": [
    {
     "data": {
      "text/plain": [
       "False"
      ]
     },
     "execution_count": 19,
     "metadata": {},
     "output_type": "execute_result"
    }
   ],
   "source": [
    "#call function here.\n",
    "SimpleSymbols('++d+===+c++==a')"
   ]
  },
  {
   "cell_type": "code",
   "execution_count": null,
   "id": "0fede187",
   "metadata": {},
   "outputs": [],
   "source": []
  },
  {
   "cell_type": "code",
   "execution_count": null,
   "id": "6e78f29d",
   "metadata": {},
   "outputs": [],
   "source": []
  },
  {
   "cell_type": "code",
   "execution_count": null,
   "id": "3e1365fa",
   "metadata": {},
   "outputs": [],
   "source": []
  }
 ],
 "metadata": {
  "kernelspec": {
   "display_name": "Python 3 (ipykernel)",
   "language": "python",
   "name": "python3"
  },
  "language_info": {
   "codemirror_mode": {
    "name": "ipython",
    "version": 3
   },
   "file_extension": ".py",
   "mimetype": "text/x-python",
   "name": "python",
   "nbconvert_exporter": "python",
   "pygments_lexer": "ipython3",
   "version": "3.10.9"
  }
 },
 "nbformat": 4,
 "nbformat_minor": 5
}
