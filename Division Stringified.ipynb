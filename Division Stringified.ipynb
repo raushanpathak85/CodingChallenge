{
 "cells": [
  {
   "cell_type": "markdown",
   "id": "84ba8304",
   "metadata": {},
   "source": [
    "*                                                                                      *\n",
    "*                  CODERBYTE BEGINNER CHALLENGE                                        *\n",
    "*                                                                                      *\n",
    "*  Division Stringified                                                                *\n",
    "*  Using the JavaScript language, have the function DivisionStringified(num1,num2)     *\n",
    "*  take both parameters being passed, divide num1 by num2, and return the result as    *\n",
    "*  a string with properly formatted commas. If an answer is only 3 digits long,        *\n",
    "*  return the number with no commas (ie. 2 / 3 should output \"1\"). For example:        *\n",
    "*  if num1 is 123456789 and num2 is 10000 the output should be \"12,345\".               *\n",
    "*                                                                                      *\n",
    "*  SOLUTION                                                                            *\n",
    "*  The first step is to divide the two number and get a whole number that you can      *\n",
    "*  format according to the directions. I use RegExp to format the number.              *\n",
    "*                                                                                      *\n",
    "*  Steps for solution                                                                  *\n",
    "*    1) Divide num1 by num2 and round to whole number                                  *\n",
    "*    2) Use RegExp to format string as required                                        *\n",
    "*                                                                                      *\n",
    "***************************************************************************************/"
   ]
  },
  {
   "cell_type": "code",
   "execution_count": 2,
   "id": "248dc6bd",
   "metadata": {},
   "outputs": [],
   "source": [
    "def DivisionStringified(num1,num2):\n",
    "    divide=round(num1/num2)\n",
    "    \n",
    "    new_string=\"{:,}\".format(divide)\n",
    "    return new_string"
   ]
  },
  {
   "cell_type": "code",
   "execution_count": 3,
   "id": "c1ff2092",
   "metadata": {},
   "outputs": [
    {
     "data": {
      "text/plain": [
       "'12,346'"
      ]
     },
     "execution_count": 3,
     "metadata": {},
     "output_type": "execute_result"
    }
   ],
   "source": [
    "#call function here.\n",
    "DivisionStringified(123456789,10000)"
   ]
  },
  {
   "cell_type": "code",
   "execution_count": null,
   "id": "622d1389",
   "metadata": {},
   "outputs": [],
   "source": []
  }
 ],
 "metadata": {
  "kernelspec": {
   "display_name": "Python 3 (ipykernel)",
   "language": "python",
   "name": "python3"
  },
  "language_info": {
   "codemirror_mode": {
    "name": "ipython",
    "version": 3
   },
   "file_extension": ".py",
   "mimetype": "text/x-python",
   "name": "python",
   "nbconvert_exporter": "python",
   "pygments_lexer": "ipython3",
   "version": "3.10.9"
  }
 },
 "nbformat": 4,
 "nbformat_minor": 5
}
