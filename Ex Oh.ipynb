{
 "cells": [
  {
   "cell_type": "markdown",
   "id": "84b286e2",
   "metadata": {},
   "source": [
    "For this challenge you will traverse a string and determine if there is an equal amount of certain characters.\n",
    "take the str parameter being passed and return the string true if there is an equal number of x's and o's, otherwise return the string false. Only these two letters will be entered in the string, no punctuation or numbers. \n",
    "\n",
    "For example: if str is \"xooxxxxooxo\" then the output should return false because there are 6 x's and 5 o's. "
   ]
  },
  {
   "cell_type": "code",
   "execution_count": 1,
   "id": "476b241e",
   "metadata": {},
   "outputs": [],
   "source": [
    "def count_xo(s):\n",
    "    \n",
    "    x_count=s.count('x')\n",
    "    o_count=s.count('o')\n",
    "    \n",
    "    if x_count == o_count:\n",
    "        return True\n",
    "    else:\n",
    "        return False\n",
    "    "
   ]
  },
  {
   "cell_type": "code",
   "execution_count": 4,
   "id": "3f3f949e",
   "metadata": {},
   "outputs": [
    {
     "data": {
      "text/plain": [
       "False"
      ]
     },
     "execution_count": 4,
     "metadata": {},
     "output_type": "execute_result"
    }
   ],
   "source": [
    "#call the function here.\n",
    "count_xo(\"xooxxxxooxo\")"
   ]
  },
  {
   "cell_type": "code",
   "execution_count": null,
   "id": "9162b12d",
   "metadata": {},
   "outputs": [],
   "source": []
  }
 ],
 "metadata": {
  "kernelspec": {
   "display_name": "Python 3 (ipykernel)",
   "language": "python",
   "name": "python3"
  },
  "language_info": {
   "codemirror_mode": {
    "name": "ipython",
    "version": 3
   },
   "file_extension": ".py",
   "mimetype": "text/x-python",
   "name": "python",
   "nbconvert_exporter": "python",
   "pygments_lexer": "ipython3",
   "version": "3.10.9"
  }
 },
 "nbformat": 4,
 "nbformat_minor": 5
}
