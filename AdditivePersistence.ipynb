{
 "cells": [
  {
   "cell_type": "markdown",
   "id": "8a283343",
   "metadata": {},
   "source": [
    "Have the function AdditivePersistence(num) take the num parameter being passed \n",
    "which will always be a positive integer and return its additive persistence \n",
    "which is the number of times you must add the digits in num until you reach a single digit. \n",
    "For example: if num is 2718 then your program should return 2 because 2 + 7 + 1 + 8 = 18 and 1 + 8 = 9 and you stop at 9."
   ]
  },
  {
   "cell_type": "code",
   "execution_count": 7,
   "id": "268253ea",
   "metadata": {},
   "outputs": [],
   "source": [
    "def AdditivePersistence(num):\n",
    "    count=0\n",
    "    \n",
    "    while num>=10:\n",
    "        total=0 ## Reset for each iteration\n",
    "        for i in str(num):\n",
    "            total=total+int(i)\n",
    "        \n",
    "        num=total\n",
    "        count=count+1\n",
    "        \n",
    "    return count"
   ]
  },
  {
   "cell_type": "code",
   "execution_count": 8,
   "id": "672c9e9e",
   "metadata": {},
   "outputs": [
    {
     "data": {
      "text/plain": [
       "2"
      ]
     },
     "execution_count": 8,
     "metadata": {},
     "output_type": "execute_result"
    }
   ],
   "source": [
    "AdditivePersistence(2718)"
   ]
  },
  {
   "cell_type": "code",
   "execution_count": 13,
   "id": "15f37902",
   "metadata": {},
   "outputs": [],
   "source": []
  },
  {
   "cell_type": "code",
   "execution_count": null,
   "id": "ac847c9c",
   "metadata": {},
   "outputs": [],
   "source": []
  },
  {
   "cell_type": "code",
   "execution_count": null,
   "id": "941428c2",
   "metadata": {},
   "outputs": [],
   "source": []
  }
 ],
 "metadata": {
  "kernelspec": {
   "display_name": "Python 3 (ipykernel)",
   "language": "python",
   "name": "python3"
  },
  "language_info": {
   "codemirror_mode": {
    "name": "ipython",
    "version": 3
   },
   "file_extension": ".py",
   "mimetype": "text/x-python",
   "name": "python",
   "nbconvert_exporter": "python",
   "pygments_lexer": "ipython3",
   "version": "3.10.9"
  }
 },
 "nbformat": 4,
 "nbformat_minor": 5
}
