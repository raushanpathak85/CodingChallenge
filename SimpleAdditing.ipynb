{
 "cells": [
  {
   "cell_type": "markdown",
   "id": "578816be",
   "metadata": {},
   "source": [
    "Have the function SimpleAdding(num) add up all the numbers from 1 to num. For example: if the input is 4 then your program should return 10 because 1 + 2 + 3 + 4 = 10. For the test cases, the parameter num will be any number from 1 to 1000. \n",
    "\n",
    "Use the Parameter Testing feature in the box below to test your code with different arguments."
   ]
  },
  {
   "cell_type": "code",
   "execution_count": 10,
   "id": "23dceee1",
   "metadata": {},
   "outputs": [],
   "source": [
    "def SimpleAdding(num):\n",
    "    add=0\n",
    "    \n",
    "    for i in range(1, num+1):\n",
    "        print(i)\n",
    "        add=add+i\n",
    "    return add\n"
   ]
  },
  {
   "cell_type": "code",
   "execution_count": 11,
   "id": "2289759e",
   "metadata": {},
   "outputs": [
    {
     "name": "stdout",
     "output_type": "stream",
     "text": [
      "1\n",
      "2\n",
      "3\n",
      "4\n"
     ]
    },
    {
     "data": {
      "text/plain": [
       "10"
      ]
     },
     "execution_count": 11,
     "metadata": {},
     "output_type": "execute_result"
    }
   ],
   "source": [
    "#CALL FUNCTION HERE.\n",
    "SimpleAdding(4)"
   ]
  },
  {
   "cell_type": "code",
   "execution_count": null,
   "id": "93dd8fcf",
   "metadata": {},
   "outputs": [],
   "source": []
  }
 ],
 "metadata": {
  "kernelspec": {
   "display_name": "Python 3 (ipykernel)",
   "language": "python",
   "name": "python3"
  },
  "language_info": {
   "codemirror_mode": {
    "name": "ipython",
    "version": 3
   },
   "file_extension": ".py",
   "mimetype": "text/x-python",
   "name": "python",
   "nbconvert_exporter": "python",
   "pygments_lexer": "ipython3",
   "version": "3.10.9"
  }
 },
 "nbformat": 4,
 "nbformat_minor": 5
}
