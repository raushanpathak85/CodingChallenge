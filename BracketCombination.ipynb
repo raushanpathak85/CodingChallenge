{
 "cells": [
  {
   "cell_type": "markdown",
   "id": "2a14e7f5",
   "metadata": {},
   "source": [
    "Read num which will be an integer greater than or equal to zero\n",
    "and return the number of valid combinations\n",
    "that can be formed with num pairs of parentheses.\n",
    "\n",
    "For example, if the input is 3,\n",
    "then the possible combinations of 3 pairs of parenthesis,\n",
    "namely: ()()(), are ()()(), ()(()), (())(), ((())), and (()()).\n",
    "There are 5 total combinations when the input is 3,\n",
    "so your program should return 5. \n",
    "\n",
    "Input:3\n",
    "Output:5\n",
    "\n",
    "Input:2\n",
    "Output:2\n",
    "\"\"\""
   ]
  },
  {
   "cell_type": "code",
   "execution_count": 3,
   "id": "ab1b72fb",
   "metadata": {},
   "outputs": [],
   "source": [
    "def bracket_combination(num):\n",
    "    \n",
    "    if num==0:\n",
    "        return 1\n",
    "    \n",
    "    total=2*num\n",
    "    open_bracket=num\n",
    "    close_bracket=num\n",
    "    current_bracket=0\n",
    "    \n",
    "    return bracket(total,open_bracket,close_bracket,current_bracket)\n",
    "\n",
    "def bracket(total,open_bracket,close_bracket,current_bracket):\n",
    "    if total ==1:\n",
    "        return 1\n",
    "    answer=0\n",
    "    \n",
    "    if current_bracket >0 and close_bracket>0:\n",
    "        answer=answer + bracket(total - 1, open_bracket, close_bracket -1,current_bracket -1)\n",
    "    if open_bracket>0:\n",
    "        answer=answer+ bracket(total - 1, open_bracket - 1, close_bracket, current_bracket +1)\n",
    "    \n",
    "    return answer\n",
    "    "
   ]
  },
  {
   "cell_type": "code",
   "execution_count": 4,
   "id": "f9168c15",
   "metadata": {},
   "outputs": [
    {
     "data": {
      "text/plain": [
       "5"
      ]
     },
     "execution_count": 4,
     "metadata": {},
     "output_type": "execute_result"
    }
   ],
   "source": [
    "##call the function here.\n",
    "bracket_combination(3)"
   ]
  },
  {
   "cell_type": "code",
   "execution_count": null,
   "id": "e1f1bf42",
   "metadata": {},
   "outputs": [],
   "source": []
  }
 ],
 "metadata": {
  "kernelspec": {
   "display_name": "Python 3 (ipykernel)",
   "language": "python",
   "name": "python3"
  },
  "language_info": {
   "codemirror_mode": {
    "name": "ipython",
    "version": 3
   },
   "file_extension": ".py",
   "mimetype": "text/x-python",
   "name": "python",
   "nbconvert_exporter": "python",
   "pygments_lexer": "ipython3",
   "version": "3.10.9"
  }
 },
 "nbformat": 4,
 "nbformat_minor": 5
}
