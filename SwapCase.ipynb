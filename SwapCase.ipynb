{
 "cells": [
  {
   "cell_type": "code",
   "execution_count": 1,
   "id": "c7138f8b",
   "metadata": {},
   "outputs": [],
   "source": [
    "# For this challenge you will be swapping the case of each character in the string.\n",
    "# have the function SwapCase(str) take the str parameter and swap the case of each character. \n",
    "\n",
    "# For example: if str is \"Hello World\" the output should be hELLO wORLD. Let numbers and symbols stay the way they are. \n"
   ]
  },
  {
   "cell_type": "code",
   "execution_count": 13,
   "id": "3552852e",
   "metadata": {},
   "outputs": [],
   "source": [
    "def SwapCase(str):\n",
    "               \n",
    "    return str.swapcase()\n",
    "       "
   ]
  },
  {
   "cell_type": "code",
   "execution_count": 15,
   "id": "e648cd38",
   "metadata": {},
   "outputs": [
    {
     "data": {
      "text/plain": [
       "'hELLO wORLD'"
      ]
     },
     "execution_count": 15,
     "metadata": {},
     "output_type": "execute_result"
    }
   ],
   "source": [
    "SwapCase('Hello World')"
   ]
  },
  {
   "cell_type": "code",
   "execution_count": null,
   "id": "a0af7d1d",
   "metadata": {},
   "outputs": [],
   "source": []
  }
 ],
 "metadata": {
  "kernelspec": {
   "display_name": "Python 3 (ipykernel)",
   "language": "python",
   "name": "python3"
  },
  "language_info": {
   "codemirror_mode": {
    "name": "ipython",
    "version": 3
   },
   "file_extension": ".py",
   "mimetype": "text/x-python",
   "name": "python",
   "nbconvert_exporter": "python",
   "pygments_lexer": "ipython3",
   "version": "3.10.9"
  }
 },
 "nbformat": 4,
 "nbformat_minor": 5
}
