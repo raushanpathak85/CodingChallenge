{
 "cells": [
  {
   "cell_type": "code",
   "execution_count": null,
   "id": "df0177fb",
   "metadata": {},
   "outputs": [],
   "source": [
    "# Have the function CamelCase(str) take the str parameter being passed and return \n",
    "# it in proper camel case format where the first letter of each word is capitalized (excluding the first letter). \n",
    "# The string will only contain letters and some combination of delimiter punctuation characters separating each word.\n",
    "\n",
    "# For example: if str is \"BOB loves-coding\" then your program should return the string bobLovesCoding."
   ]
  },
  {
   "cell_type": "code",
   "execution_count": 18,
   "id": "0aa4dff7",
   "metadata": {},
   "outputs": [],
   "source": [
    "def CamelCase(s):\n",
    "    \n",
    "    l=[]\n",
    "    capital_next=False\n",
    "    \n",
    "    for char in s:\n",
    "        if char.isalpha():\n",
    "            \n",
    "            if capital_next:\n",
    "                \n",
    "                l.append(char.upper())\n",
    "                capital_next=False\n",
    "                \n",
    "            else:\n",
    "                l.append(char.lower())\n",
    "                \n",
    "        else:\n",
    "            capital_next=True\n",
    "                \n",
    "    return ''.join(l)\n",
    "            "
   ]
  },
  {
   "cell_type": "code",
   "execution_count": 23,
   "id": "c1374665",
   "metadata": {},
   "outputs": [
    {
     "name": "stdout",
     "output_type": "stream",
     "text": [
      "\"BOB loves-coding\"\n",
      "BobLovesCoding\n"
     ]
    }
   ],
   "source": [
    "print(CamelCase(input()))"
   ]
  },
  {
   "cell_type": "code",
   "execution_count": null,
   "id": "6d84c3e5",
   "metadata": {},
   "outputs": [],
   "source": []
  },
  {
   "cell_type": "code",
   "execution_count": null,
   "id": "becb4a61",
   "metadata": {},
   "outputs": [],
   "source": []
  }
 ],
 "metadata": {
  "kernelspec": {
   "display_name": "Python 3 (ipykernel)",
   "language": "python",
   "name": "python3"
  },
  "language_info": {
   "codemirror_mode": {
    "name": "ipython",
    "version": 3
   },
   "file_extension": ".py",
   "mimetype": "text/x-python",
   "name": "python",
   "nbconvert_exporter": "python",
   "pygments_lexer": "ipython3",
   "version": "3.10.9"
  }
 },
 "nbformat": 4,
 "nbformat_minor": 5
}
