{
 "cells": [
  {
   "cell_type": "markdown",
   "id": "07f0867f",
   "metadata": {},
   "source": [
    "<!-- *  Counting Minutes I                                                                  *\n",
    "*  Using the JavaScript language, have the function CountingMinutesI(str) take the     *\n",
    "*  str parameter being passed which will be two times (each properly formatted with    *\n",
    "*  a colon and am or pm) separated by a hyphen and return the total number of minutes  *\n",
    "*  between the two times. The time will be in a 12 hour clock format. For example:     *\n",
    "*  if str is 9:00am-10:00am then the output should be 60. If str is 1:00pm-11:00am     *\n",
    "*  the output should be 1320.                                                          *\n",
    "*                                                                                      *\n",
    "*  SOLUTION                                                                            *\n",
    "*  Sometimes it pays to spend more time mapping out all the possibilites you might     *\n",
    "*  face in solving a problem before you start programming. This challenge will have    *\n",
    "*  4 possible scenarios. They are:                                                     *\n",
    "*    a) both have same ampm values and first time is after second time                 *\n",
    "*    b) both have same ampm values and the first time is before second time            *\n",
    "*    c) have different ampm times and time1 is am                                      *\n",
    "*    d) have different ampm times and time2 is pm                                      *\n",
    "*                                                                                      *\n",
    "*  I am going to use an object to represent both times simply because I like to use    *\n",
    "*  words like hours, mins, and ampm instead of referring to an array index. To parse   *\n",
    "*  the str into the two time objects I created a separate function. Now that I have    *\n",
    "*  my 2 time object I just need to create a series of IF statements to correspond to   *\n",
    "*  the 4 scenarios listed above to calculate the timeDiff.                             *\n",
    "*                                                                                      *\n",
    "*  Steps for solution                                                                  *\n",
    "*    1) Use RegExp pattern to search string for pattern a...b                          *\n",
    "*    2) If found return true                                                           *\n",
    "*    3) Else return false                                                              * -->"
   ]
  },
  {
   "cell_type": "code",
   "execution_count": 1,
   "id": "e3b8ebd3",
   "metadata": {},
   "outputs": [],
   "source": [
    "# *  Counting Minutes I                                                                  *\n",
    "# *  Using the Python language, have the function CountingMinutesI(str) take the     *\n",
    "# *  str parameter being passed which will be two times (each properly formatted with    *\n",
    "# *  a colon and am or pm) separated by a hyphen and return the total number of minutes  *\n",
    "# *  between the two times. The time will be in a 12 hour clock format. For example:     *\n",
    "# *  if str is 9:00am-10:00am then the output should be 60. If str is 1:00pm-11:00am     *\n",
    "# *  the output should be 1320.                                                          *\n"
   ]
  },
  {
   "cell_type": "code",
   "execution_count": 4,
   "id": "80c2206c",
   "metadata": {},
   "outputs": [],
   "source": [
    "def CountingMinutes(str):\n",
    "    \n",
    "    #split the string into start and end date.\n",
    "    start_time, end_time=str.split('-')\n",
    "    \n",
    "    #convert the start and end time into minutes.\n",
    "    start_minutes= GetMinuteMidnight(start_time)\n",
    "    end_minutes= GetMinuteMidnight(end_time)\n",
    "    \n",
    "    #calculate the time difference ensuring its positive value.\n",
    "    diff_time= (end_minutes-start_minutes+1440)%1440\n",
    "    \n",
    "    #return the difference of time\n",
    "    return diff_time\n",
    "\n",
    "def GetMinuteMidnight(timestr):\n",
    "    #split the Hr and Min in from the timestr.\n",
    "    hr_str, min_str = timestr[:-2].split(':')\n",
    "    \n",
    "    #convert the hr_str,min_str into integer\n",
    "    hour= int(hr_str)\n",
    "    minutes= int(min_str)\n",
    "    \n",
    "    #apply the condition for am and pm.\n",
    "    if timestr[-2:] == 'am':\n",
    "        total_minutes= hour * 60 + minutes\n",
    "        \n",
    "    if timestr[-2:] == 'pm':\n",
    "        total_minutes= (hour * 60 + minutes) + 720\n",
    "            \n",
    "    return total_minutes\n",
    "    "
   ]
  },
  {
   "cell_type": "code",
   "execution_count": 6,
   "id": "4aff66fb",
   "metadata": {},
   "outputs": [
    {
     "data": {
      "text/plain": [
       "1320"
      ]
     },
     "execution_count": 6,
     "metadata": {},
     "output_type": "execute_result"
    }
   ],
   "source": [
    "#call function here.\n",
    "CountingMinutes('1:00pm-11:00am')"
   ]
  },
  {
   "cell_type": "code",
   "execution_count": null,
   "id": "58c06851",
   "metadata": {},
   "outputs": [],
   "source": []
  },
  {
   "cell_type": "code",
   "execution_count": null,
   "id": "a63b807d",
   "metadata": {},
   "outputs": [],
   "source": []
  },
  {
   "cell_type": "code",
   "execution_count": null,
   "id": "2b017d1c",
   "metadata": {},
   "outputs": [],
   "source": []
  }
 ],
 "metadata": {
  "kernelspec": {
   "display_name": "Python 3 (ipykernel)",
   "language": "python",
   "name": "python3"
  },
  "language_info": {
   "codemirror_mode": {
    "name": "ipython",
    "version": 3
   },
   "file_extension": ".py",
   "mimetype": "text/x-python",
   "name": "python",
   "nbconvert_exporter": "python",
   "pygments_lexer": "ipython3",
   "version": "3.10.9"
  }
 },
 "nbformat": 4,
 "nbformat_minor": 5
}
