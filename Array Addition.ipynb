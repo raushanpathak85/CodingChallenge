{
 "cells": [
  {
   "cell_type": "code",
   "execution_count": 1,
   "id": "52e93801",
   "metadata": {},
   "outputs": [],
   "source": [
    "# Array Addition I                                                                    *\n",
    "# *  Using the JavaScript language, have the function ArrayAdditionI(arr) take the array *\n",
    "# *  of numbers stored in arr and return the string true if any combination of numbers   *\n",
    "# *  in the array can be added up to equal the largest number in the array, otherwise    *\n",
    "# *  return the string false. For example: if arr contains [4, 6, 23, 10, 1, 3] the      *\n",
    "# *  output should return true because 4 + 6 + 10 + 3 = 23. The array will not be empty, *\n",
    "# *  will not contain all the same elements, and may contain negative numbers.           *                                      \n",
    "# *                                                                                      *\n",
    "# *  SOLUTION                                                                            *\n",
    "# *  To get the largest number I am going to sort the array in ascending order which     *\n",
    "# *  leaves the largest number at the end of the array. I can get largest number using   *\n",
    "# *  pop() function. To get the total I am going to use two nested loops. The outer      *\n",
    "# *  loop goes through every number in the array. The inner loop then adds all the other *\n",
    "# *  numbers in the array and then compares the total to the largest number. If a match  *\n",
    "# *  is found then return true else return false.                                        *\n",
    "# *                                                                                      *"
   ]
  },
  {
   "cell_type": "code",
   "execution_count": null,
   "id": "2686615b",
   "metadata": {},
   "outputs": [],
   "source": [
    "# Steps for solution                                                                     *\n",
    "# *    1) Sort array in ascending order.                                                 *\n",
    "# *    2) Remove largest number from array and store in largest                          *\n",
    "# *    3) Loop through each number in array                                              *\n",
    "# *    4) Add every other number to this number and see if total matches largest         *\n",
    "# *    5) If match return True else return False"
   ]
  },
  {
   "cell_type": "code",
   "execution_count": 3,
   "id": "bc20e10a",
   "metadata": {},
   "outputs": [],
   "source": [
    "def array_addition(arr):\n",
    "    arr.sort()\n",
    "    large_no=arr.pop()\n",
    "    total=0\n",
    "     \n",
    "    \n",
    "    for i in range(len(arr)):\n",
    "        total=total+arr[i]\n",
    "        \n",
    "        for j in range(len(arr)):\n",
    "            if j!=i:\n",
    "                total=total+arr[j]\n",
    "                if total == large_no:\n",
    "                    return True\n",
    "                \n",
    "        for k in range(len(arr)):\n",
    "            if i !=k:\n",
    "                total=total-arr[k]\n",
    "                if total == large_no:\n",
    "                    return True\n",
    "        total=0\n",
    "    return False"
   ]
  },
  {
   "cell_type": "code",
   "execution_count": 4,
   "id": "01abcfbb",
   "metadata": {},
   "outputs": [
    {
     "data": {
      "text/plain": [
       "True"
      ]
     },
     "execution_count": 4,
     "metadata": {},
     "output_type": "execute_result"
    }
   ],
   "source": [
    "array_addition([4, 6, 23, 10, 1, 3])"
   ]
  },
  {
   "cell_type": "code",
   "execution_count": 9,
   "id": "f0ea1294",
   "metadata": {},
   "outputs": [],
   "source": [
    "import itertools \n",
    "def ArrayAddition(arr):\n",
    "    maxN = max(arr)\n",
    "    for i in range(2, len(arr)):\n",
    "        for item in itertools.combinations(arr,i):\n",
    "            \n",
    "            if sum(item)==maxN:\n",
    "                return \"true\"\n",
    "    return \"false\""
   ]
  },
  {
   "cell_type": "code",
   "execution_count": 10,
   "id": "2acd7290",
   "metadata": {},
   "outputs": [
    {
     "data": {
      "text/plain": [
       "'true'"
      ]
     },
     "execution_count": 10,
     "metadata": {},
     "output_type": "execute_result"
    }
   ],
   "source": [
    "ArrayAddition([4, 6, 23, 10, 1, 3])"
   ]
  },
  {
   "cell_type": "code",
   "execution_count": null,
   "id": "f92ec9a8",
   "metadata": {},
   "outputs": [],
   "source": []
  }
 ],
 "metadata": {
  "kernelspec": {
   "display_name": "Python 3 (ipykernel)",
   "language": "python",
   "name": "python3"
  },
  "language_info": {
   "codemirror_mode": {
    "name": "ipython",
    "version": 3
   },
   "file_extension": ".py",
   "mimetype": "text/x-python",
   "name": "python",
   "nbconvert_exporter": "python",
   "pygments_lexer": "ipython3",
   "version": "3.10.9"
  }
 },
 "nbformat": 4,
 "nbformat_minor": 5
}
