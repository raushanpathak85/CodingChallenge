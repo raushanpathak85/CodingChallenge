{
 "cells": [
  {
   "cell_type": "markdown",
   "id": "ddbfd920",
   "metadata": {},
   "source": [
    "For this challenge you will determine if numbers within an array follow an arithmetic or geometric sequence.\n",
    "take the array of numbers stored in arr and return the string \"Arithmetic\" if the sequence follows an arithmetic pattern or return \"Geometric\" if it follows a geometric pattern. \n",
    "If the sequence doesn't follow either pattern return -1. An arithmetic sequence is one where the difference between each of the numbers is consistent, where as in a geometric sequence, each term after the first is multiplied by some constant or common ratio.\n",
    "\n",
    "Arithmetic example: [2, 4, 6, 8] and Geometric example: [2, 6, 18, 54]. Negative numbers may be entered as parameters, 0 will not be entered, and no array will contain all the same elements."
   ]
  },
  {
   "cell_type": "code",
   "execution_count": 23,
   "id": "fbf185b9",
   "metadata": {},
   "outputs": [],
   "source": [
    "def arith_geo(arr):\n",
    "    \n",
    "    diff= arr[1] - arr[0]\n",
    "    ratio= arr[1]/arr[0]\n",
    "    \n",
    "    arith='true'\n",
    "    geo='true'\n",
    "    \n",
    "    \n",
    "    ## for Arithmetic\n",
    "    for i in range(len(arr)-1):\n",
    "        if arr[i+1] - arr[i] != diff:\n",
    "            arith='false'\n",
    "        if arr[i+1]/arr[i] != ratio:\n",
    "            geo='false'\n",
    "    \n",
    "    #check condition of arith_list and geo_list\n",
    "    if arith == 'true':\n",
    "        return \"Arithmetic Sequence\"\n",
    "       \n",
    "    elif geo == 'true':\n",
    "        return \"Geometric Sequence\"\n",
    "    \n",
    "    else:\n",
    "        return '-1'\n",
    "        "
   ]
  },
  {
   "cell_type": "code",
   "execution_count": 24,
   "id": "e7c66d42",
   "metadata": {},
   "outputs": [
    {
     "data": {
      "text/plain": [
       "'-1'"
      ]
     },
     "execution_count": 24,
     "metadata": {},
     "output_type": "execute_result"
    }
   ],
   "source": [
    "#call the function here\n",
    "arith_geo( [2,4,16,24])"
   ]
  },
  {
   "cell_type": "code",
   "execution_count": 25,
   "id": "9d493112",
   "metadata": {},
   "outputs": [
    {
     "data": {
      "text/plain": [
       "'Arithmetic Sequence'"
      ]
     },
     "execution_count": 25,
     "metadata": {},
     "output_type": "execute_result"
    }
   ],
   "source": [
    "arith_geo( [5,10,15])"
   ]
  },
  {
   "cell_type": "code",
   "execution_count": 26,
   "id": "da0a5110",
   "metadata": {},
   "outputs": [
    {
     "data": {
      "text/plain": [
       "'Geometric Sequence'"
      ]
     },
     "execution_count": 26,
     "metadata": {},
     "output_type": "execute_result"
    }
   ],
   "source": [
    "arith_geo([-11,22,-44,88])"
   ]
  },
  {
   "cell_type": "code",
   "execution_count": null,
   "id": "71a71a60",
   "metadata": {},
   "outputs": [],
   "source": []
  }
 ],
 "metadata": {
  "kernelspec": {
   "display_name": "Python 3 (ipykernel)",
   "language": "python",
   "name": "python3"
  },
  "language_info": {
   "codemirror_mode": {
    "name": "ipython",
    "version": 3
   },
   "file_extension": ".py",
   "mimetype": "text/x-python",
   "name": "python",
   "nbconvert_exporter": "python",
   "pygments_lexer": "ipython3",
   "version": "3.10.9"
  }
 },
 "nbformat": 4,
 "nbformat_minor": 5
}
