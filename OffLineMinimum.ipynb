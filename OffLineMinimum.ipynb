{
 "cells": [
  {
   "cell_type": "code",
   "execution_count": 1,
   "id": "e07a6b33",
   "metadata": {},
   "outputs": [],
   "source": [
    "# Have the function OffLineMinimum(strArr) take the strArr parameter being passed which will be an array of integers \n",
    "# ranging from 1...n and the letter \"E\" and return the correct subset based on the following rules. \n",
    "\n",
    "# The input will be in the following format: [\"I\",\"I\",\"E\",\"I\",...,\"E\",...,\"I\"] where the I's stand for \n",
    "# integers and the E means take out the smallest integer currently in the whole set. When finished, \n",
    "# your program should return that new set with integers separated by commas. \n",
    "\n",
    "# For example: if strArr is [\"5\",\"4\",\"6\",\"E\",\"1\",\"7\",\"E\",\"E\",\"3\",\"2\"] then your program should return 4,1,5."
   ]
  },
  {
   "cell_type": "code",
   "execution_count": 13,
   "id": "0c32f5ef",
   "metadata": {},
   "outputs": [],
   "source": [
    "def OffLineMinimum(strArr):\n",
    "    l=[]\n",
    "    l2=[]\n",
    "    \n",
    "    for i in strArr:\n",
    "        if i != 'E':\n",
    "            l.append(i)\n",
    "        else:\n",
    "            low=min(l)\n",
    "            l2.append(low)\n",
    "            l.remove(low)\n",
    "            \n",
    "    return l2\n",
    "            "
   ]
  },
  {
   "cell_type": "code",
   "execution_count": 14,
   "id": "e90e1ff0",
   "metadata": {},
   "outputs": [
    {
     "data": {
      "text/plain": [
       "['4', '1', '5']"
      ]
     },
     "execution_count": 14,
     "metadata": {},
     "output_type": "execute_result"
    }
   ],
   "source": [
    "OffLineMinimum([\"5\",\"4\",\"6\",\"E\",\"1\",\"7\",\"E\",\"E\",\"3\",\"2\"] )"
   ]
  },
  {
   "cell_type": "code",
   "execution_count": null,
   "id": "af8ebe9d",
   "metadata": {},
   "outputs": [],
   "source": []
  },
  {
   "cell_type": "code",
   "execution_count": null,
   "id": "a908e330",
   "metadata": {},
   "outputs": [],
   "source": []
  }
 ],
 "metadata": {
  "kernelspec": {
   "display_name": "Python 3 (ipykernel)",
   "language": "python",
   "name": "python3"
  },
  "language_info": {
   "codemirror_mode": {
    "name": "ipython",
    "version": 3
   },
   "file_extension": ".py",
   "mimetype": "text/x-python",
   "name": "python",
   "nbconvert_exporter": "python",
   "pygments_lexer": "ipython3",
   "version": "3.10.9"
  }
 },
 "nbformat": 4,
 "nbformat_minor": 5
}
