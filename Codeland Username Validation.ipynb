{
 "cells": [
  {
   "cell_type": "markdown",
   "id": "14b66494",
   "metadata": {},
   "source": [
    "Codeland Username Validation\n",
    "\n",
    "Have the function CodelandUsernameValidation(str) take the str parameter being passed and determine if the string is a valid username according to the following rules:\n",
    "\n",
    "1. The username is between 4 and 25 characters.\n",
    "2. It must start with a letter.\n",
    "3. It can only contain letters, numbers, and the underscore character.\n",
    "4. It cannot end with an underscore character.\n",
    "\n",
    "If the username is valid then your program should return the string true, otherwise return the string false.\n",
    "Examples\n",
    "Input: \"aa_\"\n",
    "Output: false"
   ]
  },
  {
   "cell_type": "code",
   "execution_count": 1,
   "id": "221ef704",
   "metadata": {},
   "outputs": [],
   "source": [
    "def CodelandUsernameValidation(str):\n",
    "    \n",
    "    #The username is between 4 and 25 characters.\n",
    "    if len(str) < 4 or len(str) > 25:\n",
    "        return False\n",
    "    \n",
    "    #It must start with a letter.\n",
    "    if not str[0].isalpha():\n",
    "        return False\n",
    "    \n",
    "    #It cannot end with an underscore character.\n",
    "    if str[-1] == '_':\n",
    "        return False\n",
    "    \n",
    "    return True\n",
    "    "
   ]
  },
  {
   "cell_type": "code",
   "execution_count": 7,
   "id": "6ec5b4b9",
   "metadata": {},
   "outputs": [
    {
     "data": {
      "text/plain": [
       "True"
      ]
     },
     "execution_count": 7,
     "metadata": {},
     "output_type": "execute_result"
    }
   ],
   "source": [
    "##call function here.\n",
    "CodelandUsernameValidation(\"u__hello_world123\")"
   ]
  },
  {
   "cell_type": "code",
   "execution_count": null,
   "id": "23bd0f75",
   "metadata": {},
   "outputs": [],
   "source": []
  }
 ],
 "metadata": {
  "kernelspec": {
   "display_name": "Python 3 (ipykernel)",
   "language": "python",
   "name": "python3"
  },
  "language_info": {
   "codemirror_mode": {
    "name": "ipython",
    "version": 3
   },
   "file_extension": ".py",
   "mimetype": "text/x-python",
   "name": "python",
   "nbconvert_exporter": "python",
   "pygments_lexer": "ipython3",
   "version": "3.10.9"
  }
 },
 "nbformat": 4,
 "nbformat_minor": 5
}
