{
 "cells": [
  {
   "cell_type": "code",
   "execution_count": null,
   "id": "7ee803b6",
   "metadata": {},
   "outputs": [],
   "source": [
    "# Implement function count_numbers that accepts a sorted list of unique integers\n",
    "# and, efficiently with respect to time used, counts the number of list elements that are less than the parameter less_than.\n",
    "\n",
    "# For example, count_numbers ([1, 3, 5, 7), 4) should return 2 because there are two list elements less than 4"
   ]
  },
  {
   "cell_type": "code",
   "execution_count": 2,
   "id": "6ad955b1",
   "metadata": {},
   "outputs": [
    {
     "data": {
      "text/plain": [
       "2"
      ]
     },
     "execution_count": 2,
     "metadata": {},
     "output_type": "execute_result"
    }
   ],
   "source": [
    "from bisect import bisect_left\n",
    "\n",
    "def count_numbers(sorted_list,less_than):\n",
    "    return bisect_left(sorted_list,less_than)\n",
    "\n",
    "##call function here.\n",
    "count_numbers([1,3,5,7],4)"
   ]
  },
  {
   "cell_type": "code",
   "execution_count": null,
   "id": "d103c875",
   "metadata": {},
   "outputs": [],
   "source": []
  },
  {
   "cell_type": "code",
   "execution_count": null,
   "id": "f11d1699",
   "metadata": {},
   "outputs": [],
   "source": []
  }
 ],
 "metadata": {
  "kernelspec": {
   "display_name": "Python 3 (ipykernel)",
   "language": "python",
   "name": "python3"
  },
  "language_info": {
   "codemirror_mode": {
    "name": "ipython",
    "version": 3
   },
   "file_extension": ".py",
   "mimetype": "text/x-python",
   "name": "python",
   "nbconvert_exporter": "python",
   "pygments_lexer": "ipython3",
   "version": "3.10.9"
  }
 },
 "nbformat": 4,
 "nbformat_minor": 5
}
