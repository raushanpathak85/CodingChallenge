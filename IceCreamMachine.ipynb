{
 "cells": [
  {
   "cell_type": "markdown",
   "id": "68d4b19e",
   "metadata": {},
   "source": [
    "Implement the IceCreamMachine's scoops method so that it returns all combinations of one ingredient and one topping. \n",
    "If there are no ingredients or toppings, the method should return an empty list.\n",
    "For example, IceCream Machine ([\"vanilla\", \"chocolate\"], [\"chocolate sauce\"]).scoops() \n",
    "should return [['vanilla', 'chocolate sauce'], ['chocolate', 'chocolate sauce']]."
   ]
  },
  {
   "cell_type": "code",
   "execution_count": 9,
   "id": "084f7cf2",
   "metadata": {},
   "outputs": [],
   "source": [
    "## By scoops method:\n",
    "\n",
    "class IceCreamMachine:\n",
    "    def __init__(self, ingredients,toppings):\n",
    "        self.ingredients=ingredients\n",
    "        self.toppings=toppings\n",
    "    \n",
    "    def scoop(self):\n",
    "        result=[]\n",
    "        \n",
    "        for sobar in self.ingredients:\n",
    "            for topping in self.toppings:\n",
    "                merge=[]\n",
    "                merge.append(sobar)\n",
    "                merge.append(topping)\n",
    "                result.append(merge)\n",
    "        return result\n",
    "        "
   ]
  },
  {
   "cell_type": "code",
   "execution_count": 10,
   "id": "329a909e",
   "metadata": {},
   "outputs": [
    {
     "name": "stdout",
     "output_type": "stream",
     "text": [
      "[['vanilla', 'chocolate sauce'], ['chocolate', 'chocolate sauce']]\n"
     ]
    }
   ],
   "source": [
    "machine=IceCreamMachine([\"vanilla\", \"chocolate\"], [\"chocolate sauce\"])\n",
    "\n",
    "print(machine.scoop())"
   ]
  },
  {
   "cell_type": "code",
   "execution_count": null,
   "id": "9cf7b14a",
   "metadata": {},
   "outputs": [],
   "source": []
  },
  {
   "cell_type": "code",
   "execution_count": 11,
   "id": "29bb6a94",
   "metadata": {},
   "outputs": [
    {
     "data": {
      "text/plain": [
       "[['vanilla', 'chocolate sauce'], ['chocolate', 'chocolate sauce']]"
      ]
     },
     "execution_count": 11,
     "metadata": {},
     "output_type": "execute_result"
    }
   ],
   "source": [
    "######## Without Scoops user define function ############\n",
    "\n",
    "def IceCreamMachine(ingredients,toppings):\n",
    "    result=[]\n",
    "    for sobar in ingredients:\n",
    "        for toping in toppings:\n",
    "            merge=[]\n",
    "            merge.append(sobar)\n",
    "            merge.append(toping)\n",
    "            result.append(merge)\n",
    "    return result\n",
    "\n",
    "##Call the function here.\n",
    "IceCreamMachine([\"vanilla\", \"chocolate\"], [\"chocolate sauce\"])"
   ]
  },
  {
   "cell_type": "code",
   "execution_count": null,
   "id": "8838a2d9",
   "metadata": {},
   "outputs": [],
   "source": []
  },
  {
   "cell_type": "code",
   "execution_count": null,
   "id": "725ad02d",
   "metadata": {},
   "outputs": [],
   "source": []
  }
 ],
 "metadata": {
  "kernelspec": {
   "display_name": "Python 3 (ipykernel)",
   "language": "python",
   "name": "python3"
  },
  "language_info": {
   "codemirror_mode": {
    "name": "ipython",
    "version": 3
   },
   "file_extension": ".py",
   "mimetype": "text/x-python",
   "name": "python",
   "nbconvert_exporter": "python",
   "pygments_lexer": "ipython3",
   "version": "3.10.9"
  }
 },
 "nbformat": 4,
 "nbformat_minor": 5
}
