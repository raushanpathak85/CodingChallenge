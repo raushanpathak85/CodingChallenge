{
 "cells": [
  {
   "cell_type": "code",
   "execution_count": 1,
   "id": "9765347f",
   "metadata": {},
   "outputs": [],
   "source": [
    "# For this challenge you will traverse a string searching for all the numbers and then you will add them up.\n",
    "# have the function NumberSearch(str) take the str parameter, search for all the numbers in the string, add them together, \n",
    "# then return that final number. For example: if str is \"88Hello 3World!\" the output should be 91. \n",
    "# You will have to differentiate between single digit numbers and multiple digit numbers like in the example above. \n",
    "# So \"55Hello\" and \"5Hello 5\" should return two different answers. Each string will contain at least one letter or symbol. \n"
   ]
  },
  {
   "cell_type": "code",
   "execution_count": 7,
   "id": "7236d8a9",
   "metadata": {},
   "outputs": [],
   "source": [
    "import re\n",
    "def NumberAddition(str):\n",
    "    \n",
    "    total=0\n",
    "    number=re.findall(r'\\d+',str)\n",
    "    \n",
    "    for i in number:\n",
    "        total=total+int(i)\n",
    "    return total\n",
    "    "
   ]
  },
  {
   "cell_type": "code",
   "execution_count": 11,
   "id": "a1cee983",
   "metadata": {},
   "outputs": [
    {
     "data": {
      "text/plain": [
       "91"
      ]
     },
     "execution_count": 11,
     "metadata": {},
     "output_type": "execute_result"
    }
   ],
   "source": [
    "#call function here\n",
    "NumberAddition('88Hello 3World!')"
   ]
  },
  {
   "cell_type": "code",
   "execution_count": null,
   "id": "e355cf8f",
   "metadata": {},
   "outputs": [],
   "source": []
  }
 ],
 "metadata": {
  "kernelspec": {
   "display_name": "Python 3 (ipykernel)",
   "language": "python",
   "name": "python3"
  },
  "language_info": {
   "codemirror_mode": {
    "name": "ipython",
    "version": 3
   },
   "file_extension": ".py",
   "mimetype": "text/x-python",
   "name": "python",
   "nbconvert_exporter": "python",
   "pygments_lexer": "ipython3",
   "version": "3.10.9"
  }
 },
 "nbformat": 4,
 "nbformat_minor": 5
}
