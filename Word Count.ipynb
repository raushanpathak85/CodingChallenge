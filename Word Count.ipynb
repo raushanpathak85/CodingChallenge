{
 "cells": [
  {
   "cell_type": "code",
   "execution_count": 1,
   "id": "163677b4",
   "metadata": {},
   "outputs": [],
   "source": [
    "## count the word in the given strings."
   ]
  },
  {
   "cell_type": "code",
   "execution_count": 2,
   "id": "80b2ff72",
   "metadata": {},
   "outputs": [],
   "source": [
    "def word_count(s):\n",
    "    \n",
    "    words=s.split()\n",
    "    count=0\n",
    "    \n",
    "    for word in words:\n",
    "        count=count+1\n",
    "        \n",
    "    return count\n",
    "        "
   ]
  },
  {
   "cell_type": "code",
   "execution_count": 3,
   "id": "33e1cb9f",
   "metadata": {},
   "outputs": [
    {
     "data": {
      "text/plain": [
       "4"
      ]
     },
     "execution_count": 3,
     "metadata": {},
     "output_type": "execute_result"
    }
   ],
   "source": [
    "#call function here.\n",
    "word_count('Never eat shredded wheat')"
   ]
  },
  {
   "cell_type": "code",
   "execution_count": 4,
   "id": "84400c8d",
   "metadata": {},
   "outputs": [
    {
     "data": {
      "text/plain": [
       "2"
      ]
     },
     "execution_count": 4,
     "metadata": {},
     "output_type": "execute_result"
    }
   ],
   "source": [
    "word_count('Hello World')"
   ]
  },
  {
   "cell_type": "code",
   "execution_count": null,
   "id": "30032c01",
   "metadata": {},
   "outputs": [],
   "source": []
  },
  {
   "cell_type": "code",
   "execution_count": null,
   "id": "aa4e3170",
   "metadata": {},
   "outputs": [],
   "source": []
  },
  {
   "cell_type": "code",
   "execution_count": null,
   "id": "4fa69964",
   "metadata": {},
   "outputs": [],
   "source": []
  }
 ],
 "metadata": {
  "kernelspec": {
   "display_name": "Python 3 (ipykernel)",
   "language": "python",
   "name": "python3"
  },
  "language_info": {
   "codemirror_mode": {
    "name": "ipython",
    "version": 3
   },
   "file_extension": ".py",
   "mimetype": "text/x-python",
   "name": "python",
   "nbconvert_exporter": "python",
   "pygments_lexer": "ipython3",
   "version": "3.10.9"
  }
 },
 "nbformat": 4,
 "nbformat_minor": 5
}
