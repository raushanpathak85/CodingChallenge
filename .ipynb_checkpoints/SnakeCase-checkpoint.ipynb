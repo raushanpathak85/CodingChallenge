{
 "cells": [
  {
   "cell_type": "markdown",
   "id": "22da224f",
   "metadata": {},
   "source": [
    "For this challenge you will be converting a string into snake case format.have the function SnakeCase(str) take the str parameter being passed and return it in proper snake case format where each word is lowercased and separated from adjacent words via an underscore. The string will only contain letters and some combination of delimiter punctuation characters separating each word.\n",
    "\n",
    "For example: if str is \"BOB loves-coding\" then your program should return the string bob_loves_coding."
   ]
  },
  {
   "cell_type": "code",
   "execution_count": 3,
   "id": "81a30bc8",
   "metadata": {},
   "outputs": [],
   "source": [
    "\n",
    "def snake_case(s):\n",
    "    import re\n",
    "    s=s.strip().lower()\n",
    "    s= re.sub(r'\\W+', '_', s)\n",
    "    return s\n"
   ]
  },
  {
   "cell_type": "code",
   "execution_count": 4,
   "id": "d34dae73",
   "metadata": {},
   "outputs": [
    {
     "data": {
      "text/plain": [
       "'cats_and_dogs_are_awesome'"
      ]
     },
     "execution_count": 4,
     "metadata": {},
     "output_type": "execute_result"
    }
   ],
   "source": [
    "## Call the function here.\n",
    "snake_case('cats AND*Dogs-are Awesome')"
   ]
  },
  {
   "cell_type": "code",
   "execution_count": null,
   "id": "54caa595",
   "metadata": {},
   "outputs": [],
   "source": []
  }
 ],
 "metadata": {
  "kernelspec": {
   "display_name": "Python 3 (ipykernel)",
   "language": "python",
   "name": "python3"
  },
  "language_info": {
   "codemirror_mode": {
    "name": "ipython",
    "version": 3
   },
   "file_extension": ".py",
   "mimetype": "text/x-python",
   "name": "python",
   "nbconvert_exporter": "python",
   "pygments_lexer": "ipython3",
   "version": "3.10.9"
  }
 },
 "nbformat": 4,
 "nbformat_minor": 5
}
