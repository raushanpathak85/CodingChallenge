{
 "cells": [
  {
   "cell_type": "code",
   "execution_count": null,
   "id": "2e62e720",
   "metadata": {},
   "outputs": [],
   "source": [
    "# Have the function OneDecremented(str) count how many times a digit appears that is exactly one less than the previous digit. \n",
    "# For example: if str is \"5655984\" then your program should return 2 because 5 appears directly after 6 and 8 \n",
    "# appears directly after 9. The input will always contain at least 1 digit."
   ]
  },
  {
   "cell_type": "code",
   "execution_count": 17,
   "id": "35d66833",
   "metadata": {},
   "outputs": [],
   "source": [
    "def OneDecremented(str_s):\n",
    "    count=0\n",
    "    \n",
    "    for i in range(1,len(str_s)):\n",
    "        if (int(str_s[i-1])-int(str_s[i])) == 1:\n",
    "            count=count+1\n",
    "            \n",
    "    return count\n",
    "\n",
    "        "
   ]
  },
  {
   "cell_type": "code",
   "execution_count": 18,
   "id": "e4114047",
   "metadata": {},
   "outputs": [
    {
     "name": "stdout",
     "output_type": "stream",
     "text": [
      "5655984\n",
      "2\n"
     ]
    }
   ],
   "source": [
    "print(OneDecremented(input()))"
   ]
  },
  {
   "cell_type": "code",
   "execution_count": null,
   "id": "4bac8864",
   "metadata": {},
   "outputs": [],
   "source": []
  },
  {
   "cell_type": "code",
   "execution_count": null,
   "id": "086e8f2e",
   "metadata": {},
   "outputs": [],
   "source": []
  }
 ],
 "metadata": {
  "kernelspec": {
   "display_name": "Python 3 (ipykernel)",
   "language": "python",
   "name": "python3"
  },
  "language_info": {
   "codemirror_mode": {
    "name": "ipython",
    "version": 3
   },
   "file_extension": ".py",
   "mimetype": "text/x-python",
   "name": "python",
   "nbconvert_exporter": "python",
   "pygments_lexer": "ipython3",
   "version": "3.10.9"
  }
 },
 "nbformat": 4,
 "nbformat_minor": 5
}
