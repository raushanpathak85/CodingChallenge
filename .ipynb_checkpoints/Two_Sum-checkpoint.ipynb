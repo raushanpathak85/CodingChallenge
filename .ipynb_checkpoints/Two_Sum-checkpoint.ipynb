{
 "cells": [
  {
   "cell_type": "markdown",
   "id": "f2383f78",
   "metadata": {},
   "source": [
    "Write a function that, when passed a list and a target sum, returns, efficiently\n",
    "with respect to time used, two distinct zero-based indices of any two of the\n",
    "numbers, whose sum is equal to the target sum. If there are no two numbers,\n",
    "the function should return None.\n",
    "\n",
    "For example, find_two_sum([3, 1, 5, 7, 5, 9], 10) should return a single tuple\n",
    "containing any of the following pairs of indices:\n",
    "\n",
    "* 0 and 3 (or 3 and 0) as 3 + 7 = 10\n",
    "* 1 and 5 (or 5 and 1) as 1 + 9 = 10\n",
    "* 2 and 4 (or 4 and 2) as 5 + 5 = 10\n",
    "\n",
    "\n",
    "def find_two_sum(numbers, target_sum):\n",
    "    # :param numbers: (list of ints) The list of numbers.\n",
    "    # :param target_sum: (int) The required target sum.\n",
    "    # :returns: (a tuple of 2 ints) The indices of the two elements whose sum is equal to target_sum\n",
    "    return None"
   ]
  },
  {
   "cell_type": "code",
   "execution_count": 8,
   "id": "e8f1fa1d",
   "metadata": {},
   "outputs": [
    {
     "data": {
      "text/plain": [
       "(3, 0)"
      ]
     },
     "execution_count": 8,
     "metadata": {},
     "output_type": "execute_result"
    }
   ],
   "source": [
    "def two_sum(l,target_sum):\n",
    "    target={}\n",
    "    \n",
    "    for key, value in enumerate(l):\n",
    "        substract= target_sum-value\n",
    "        \n",
    "        if substract in target:\n",
    "            return key ,target[substract]\n",
    "            \n",
    "    \n",
    "        target[value]=key\n",
    "      \n",
    "    return None\n",
    "\n",
    "## Call function here.\n",
    "two_sum([3, 1, 5, 7, 5, 9], 10)\n"
   ]
  },
  {
   "cell_type": "code",
   "execution_count": null,
   "id": "7d4b4488",
   "metadata": {},
   "outputs": [],
   "source": []
  }
 ],
 "metadata": {
  "kernelspec": {
   "display_name": "Python 3 (ipykernel)",
   "language": "python",
   "name": "python3"
  },
  "language_info": {
   "codemirror_mode": {
    "name": "ipython",
    "version": 3
   },
   "file_extension": ".py",
   "mimetype": "text/x-python",
   "name": "python",
   "nbconvert_exporter": "python",
   "pygments_lexer": "ipython3",
   "version": "3.10.9"
  }
 },
 "nbformat": 4,
 "nbformat_minor": 5
}
