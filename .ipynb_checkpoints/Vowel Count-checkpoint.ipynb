{
 "cells": [
  {
   "cell_type": "markdown",
   "id": "18c2ea55",
   "metadata": {},
   "source": [
    "For this challenge you will be counting all the vowels in a string.\n",
    "//  take the str string parameter being passed and return the number of vowels the string contains (ie. \"All cows eat grass\" would return 5). Do not count y as a vowel for this challenge. "
   ]
  },
  {
   "cell_type": "code",
   "execution_count": 7,
   "id": "4ae50399",
   "metadata": {},
   "outputs": [],
   "source": [
    "def vowel_Count(s):\n",
    "    count=0\n",
    "    \n",
    "    for i in s:\n",
    "        if i == 'a' or i == 'e' or i == 'i' or i == 'o' or i == 'u' or i =='A' or i == 'E' or i == 'I' or i == 'O' or i == 'U':\n",
    "            count=count+1\n",
    "    \n",
    "    return count\n",
    "        "
   ]
  },
  {
   "cell_type": "code",
   "execution_count": 8,
   "id": "8c0f3af0",
   "metadata": {},
   "outputs": [
    {
     "data": {
      "text/plain": [
       "5"
      ]
     },
     "execution_count": 8,
     "metadata": {},
     "output_type": "execute_result"
    }
   ],
   "source": [
    "#call function here.\n",
    "vowel_Count(\"All cows eat grass\")"
   ]
  },
  {
   "cell_type": "code",
   "execution_count": null,
   "id": "e1e3e8eb",
   "metadata": {},
   "outputs": [],
   "source": []
  }
 ],
 "metadata": {
  "kernelspec": {
   "display_name": "Python 3 (ipykernel)",
   "language": "python",
   "name": "python3"
  },
  "language_info": {
   "codemirror_mode": {
    "name": "ipython",
    "version": 3
   },
   "file_extension": ".py",
   "mimetype": "text/x-python",
   "name": "python",
   "nbconvert_exporter": "python",
   "pygments_lexer": "ipython3",
   "version": "3.10.9"
  }
 },
 "nbformat": 4,
 "nbformat_minor": 5
}
