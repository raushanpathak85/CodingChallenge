{
 "cells": [
  {
   "cell_type": "markdown",
   "id": "d23c51db",
   "metadata": {},
   "source": [
    "Have the function QuestionsMarks(str) take the str string parameter, which will contain single digit numbers, letters, and question marks, and check if there are exactly 3 question marks between every pair of two numbers that add up to 10. If so, then your program should return the string true, otherwise it should return the string false. If there aren't any two numbers that add up to 10 in the string, then your program should return false as well. \n",
    "\n",
    "For example: if str is \"arrb6???4xxbl5???eee5\" then your program should return true because there are exactly 3 question marks between 6 and 4, and 3 question marks between 5 and 5 at the end of the string. \n",
    "\n",
    "Sample Test Cases\n",
    "\n",
    "Input:\"aa6?9\"\n",
    "Output:false\n",
    "\n",
    "Input:\"acc?7??sss?3rr1??????5\"\n",
    "Output:true"
   ]
  },
  {
   "cell_type": "code",
   "execution_count": 4,
   "id": "8af2df81",
   "metadata": {},
   "outputs": [],
   "source": [
    "def QuestionsMarks(s):\n",
    "    num='1234567890'\n",
    "    last_digit=None\n",
    "    answer='False'\n",
    "    \n",
    "    for i in range(0,len(s)):\n",
    "        if s[i].isdigit():\n",
    "            if last_digit:\n",
    "                if int(s[i]) + int(s[last_digit]) == 10:\n",
    "                    if s[last_digit:i].count('?') == 3:\n",
    "                        answer = 'True'\n",
    "            last_digit=i\n",
    "    return answer\n"
   ]
  },
  {
   "cell_type": "code",
   "execution_count": 6,
   "id": "148f997f",
   "metadata": {},
   "outputs": [
    {
     "data": {
      "text/plain": [
       "'True'"
      ]
     },
     "execution_count": 6,
     "metadata": {},
     "output_type": "execute_result"
    }
   ],
   "source": [
    "##call function here.\n",
    "QuestionsMarks(\"acc?7??sss?3rr1??????5\" )"
   ]
  },
  {
   "cell_type": "code",
   "execution_count": null,
   "id": "f31a2a8f",
   "metadata": {},
   "outputs": [],
   "source": []
  }
 ],
 "metadata": {
  "kernelspec": {
   "display_name": "Python 3 (ipykernel)",
   "language": "python",
   "name": "python3"
  },
  "language_info": {
   "codemirror_mode": {
    "name": "ipython",
    "version": 3
   },
   "file_extension": ".py",
   "mimetype": "text/x-python",
   "name": "python",
   "nbconvert_exporter": "python",
   "pygments_lexer": "ipython3",
   "version": "3.10.9"
  }
 },
 "nbformat": 4,
 "nbformat_minor": 5
}
