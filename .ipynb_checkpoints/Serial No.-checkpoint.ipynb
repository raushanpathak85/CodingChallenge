{
 "cells": [
  {
   "cell_type": "code",
   "execution_count": 1,
   "id": "b77fb648",
   "metadata": {},
   "outputs": [],
   "source": [
    "## Serial No.\n",
    "# // For this challenge you will be determining if a string produces a valid serial number.\n",
    "# have the function SerialNumber(str) take the str parameter being passed and determine \n",
    "# if it is a valid serial number with the following constraints:\n",
    "\n",
    "# 1. It needs to contain three sets each with three digits (1 through 9) separated by a period.\n",
    "# 2. The first set of digits must add up to an even number.\n",
    "# 3. The second set of digits must add up to an odd number.\n",
    "# 4. The last digit in each set must be larger than the two previous digits in the same set.\n",
    "\n",
    "# If all the above constraints are met within the string, the your program should return the string true, \n",
    "# otherwise your program should return the string false. For example: if str is \"224.315.218\" \n",
    "# then your program should return \"true\".\n",
    "# */"
   ]
  },
  {
   "cell_type": "code",
   "execution_count": 150,
   "id": "0bfc6a68",
   "metadata": {},
   "outputs": [],
   "source": [
    "def serial_no(s):\n",
    "    \n",
    "    ## Check the size of Strings.\n",
    "    if len(s)<11:\n",
    "        return \"False\"\n",
    "    \n",
    "    ## Check '0' value in the string.\n",
    "    for x in range(len(s)):\n",
    "        if s[x]=='0':\n",
    "            return 'False'\n",
    "    \n",
    "    # Check add of first set is even and add of second set is odd.\n",
    "    first=int(s[0])+int(s[1])+int(s[2])\n",
    "    second=int(s[4])+int(s[5])+int(s[6])\n",
    "    \n",
    "    if first % 2 != 0 and second % 2 ==0:\n",
    "        return \"False\"\n",
    "    \n",
    "    ## Check The last digit in each set must be larger than the two previous digits in the same set.\n",
    "    if (s[2]<s[1] or s[2]<s[0] or s[6]<s[5] or s[6]<s[4] or s[10]<s[9] or s[10]<s[8]):\n",
    "        return \"False\"\n",
    "    else:\n",
    "        return \"True\"          \n",
    "        \n",
    "     \n",
    "            \n",
    "        "
   ]
  },
  {
   "cell_type": "code",
   "execution_count": 154,
   "id": "d2795623",
   "metadata": {},
   "outputs": [
    {
     "data": {
      "text/plain": [
       "'True'"
      ]
     },
     "execution_count": 154,
     "metadata": {},
     "output_type": "execute_result"
    }
   ],
   "source": [
    "serial_no(\"224.315.218\")"
   ]
  },
  {
   "cell_type": "code",
   "execution_count": null,
   "id": "3b9d5088",
   "metadata": {},
   "outputs": [],
   "source": []
  },
  {
   "cell_type": "code",
   "execution_count": null,
   "id": "bd662c44",
   "metadata": {},
   "outputs": [],
   "source": []
  },
  {
   "cell_type": "code",
   "execution_count": null,
   "id": "ff2ca991",
   "metadata": {},
   "outputs": [],
   "source": []
  },
  {
   "cell_type": "code",
   "execution_count": 141,
   "id": "84a01ce3",
   "metadata": {},
   "outputs": [],
   "source": []
  },
  {
   "cell_type": "code",
   "execution_count": null,
   "id": "69417477",
   "metadata": {},
   "outputs": [],
   "source": []
  },
  {
   "cell_type": "code",
   "execution_count": null,
   "id": "1e17f4f5",
   "metadata": {},
   "outputs": [],
   "source": []
  }
 ],
 "metadata": {
  "kernelspec": {
   "display_name": "Python 3 (ipykernel)",
   "language": "python",
   "name": "python3"
  },
  "language_info": {
   "codemirror_mode": {
    "name": "ipython",
    "version": 3
   },
   "file_extension": ".py",
   "mimetype": "text/x-python",
   "name": "python",
   "nbconvert_exporter": "python",
   "pygments_lexer": "ipython3",
   "version": "3.10.9"
  }
 },
 "nbformat": 4,
 "nbformat_minor": 5
}
