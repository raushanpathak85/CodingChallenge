{
 "cells": [
  {
   "cell_type": "code",
   "execution_count": 1,
   "id": "b43f75c0",
   "metadata": {},
   "outputs": [],
   "source": [
    "## Largest Pair\n",
    "##For this challenge you will determine the largest double digit number.\n",
    "##have the function LargestPair(num) take the num parameter being passed and\n",
    "##determine the largest double digit number within the whole number. \n",
    "##For example: if num is 4759472 then your program should return 94 because that \n",
    "##is the largest double digit number. The input will always contain at least two positive digits. "
   ]
  },
  {
   "cell_type": "code",
   "execution_count": 29,
   "id": "2e1e8ac5",
   "metadata": {},
   "outputs": [],
   "source": [
    "def largest_pair(num):\n",
    "    \n",
    "    str1=str(num) ## Convert integer value of num to string.\n",
    "    large=0\n",
    "    \n",
    "    for i in range (len(str1)-1):\n",
    "        count=int(str1[i:i+2])\n",
    "        if count>large:\n",
    "            large=count\n",
    "            \n",
    "    return large"
   ]
  },
  {
   "cell_type": "code",
   "execution_count": 30,
   "id": "ff4e0ac2",
   "metadata": {},
   "outputs": [
    {
     "data": {
      "text/plain": [
       "94"
      ]
     },
     "execution_count": 30,
     "metadata": {},
     "output_type": "execute_result"
    }
   ],
   "source": [
    "largest_pair(4759472)"
   ]
  },
  {
   "cell_type": "code",
   "execution_count": null,
   "id": "1ee76d1d",
   "metadata": {},
   "outputs": [],
   "source": []
  },
  {
   "cell_type": "code",
   "execution_count": 13,
   "id": "84e877d0",
   "metadata": {},
   "outputs": [],
   "source": [
    "\n"
   ]
  },
  {
   "cell_type": "code",
   "execution_count": null,
   "id": "cc03cc7b",
   "metadata": {},
   "outputs": [],
   "source": []
  },
  {
   "cell_type": "code",
   "execution_count": null,
   "id": "05f2edfb",
   "metadata": {},
   "outputs": [],
   "source": []
  }
 ],
 "metadata": {
  "kernelspec": {
   "display_name": "Python 3 (ipykernel)",
   "language": "python",
   "name": "python3"
  },
  "language_info": {
   "codemirror_mode": {
    "name": "ipython",
    "version": 3
   },
   "file_extension": ".py",
   "mimetype": "text/x-python",
   "name": "python",
   "nbconvert_exporter": "python",
   "pygments_lexer": "ipython3",
   "version": "3.10.9"
  }
 },
 "nbformat": 4,
 "nbformat_minor": 5
}
