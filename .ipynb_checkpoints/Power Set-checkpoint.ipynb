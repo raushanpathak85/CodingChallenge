{
 "cells": [
  {
   "cell_type": "code",
   "execution_count": 4,
   "id": "c9bff639",
   "metadata": {},
   "outputs": [],
   "source": [
    "\n",
    "# Have the function PowerSetCount(arr),\n",
    "# take the array of integers stored in arr, and return the length of the power set (the number of all possible sets) \n",
    "# that can be generated. \n",
    "# For example: if arr is [1, 2, 3], then the following sets form the power set:\n",
    "\n",
    "# []\n",
    "# [1]\n",
    "# [2]\n",
    "# [3]\n",
    "# [1, 2]\n",
    "# [1, 3]\n",
    "# [2, 3]\n",
    "# [1, 2, 3]\n",
    "\n"
   ]
  },
  {
   "cell_type": "code",
   "execution_count": 6,
   "id": "ebff05de",
   "metadata": {},
   "outputs": [],
   "source": [
    "from itertools import combinations\n",
    "\n",
    "def powerset(arr):\n",
    "    for i in range(len(arr)+1):\n",
    "        for sub in combinations(arr,i):\n",
    "            print(list(sub))"
   ]
  },
  {
   "cell_type": "code",
   "execution_count": 7,
   "id": "9c546994",
   "metadata": {},
   "outputs": [
    {
     "name": "stdout",
     "output_type": "stream",
     "text": [
      "[]\n",
      "[1]\n",
      "[2]\n",
      "[3]\n",
      "[1, 2]\n",
      "[1, 3]\n",
      "[2, 3]\n",
      "[1, 2, 3]\n"
     ]
    }
   ],
   "source": [
    "powerset([1,2,3])"
   ]
  },
  {
   "cell_type": "code",
   "execution_count": null,
   "id": "5e9246e6",
   "metadata": {},
   "outputs": [],
   "source": []
  }
 ],
 "metadata": {
  "kernelspec": {
   "display_name": "Python 3 (ipykernel)",
   "language": "python",
   "name": "python3"
  },
  "language_info": {
   "codemirror_mode": {
    "name": "ipython",
    "version": 3
   },
   "file_extension": ".py",
   "mimetype": "text/x-python",
   "name": "python",
   "nbconvert_exporter": "python",
   "pygments_lexer": "ipython3",
   "version": "3.10.9"
  }
 },
 "nbformat": 4,
 "nbformat_minor": 5
}
