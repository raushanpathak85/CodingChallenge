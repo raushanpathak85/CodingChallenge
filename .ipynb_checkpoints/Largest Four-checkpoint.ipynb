{
 "cells": [
  {
   "cell_type": "code",
   "execution_count": 1,
   "id": "291497bb",
   "metadata": {},
   "outputs": [],
   "source": [
    "#LARGEST FOUR CHALLENGE              *\n",
    "#  *                                                              *\n",
    "#  * Problem Statement                                            *\n",
    "#  * Have the function LargestFour(arr) take the array of integers*\n",
    "#  * stored in arr, and find the four largest elements and return *\n",
    "#  * their sum.                                                   *\n",
    "#  *                                                              *\n",
    "#  * For example: if arr is [4, 5, -2, 3, 1, 2, 6, 6] then the    *\n",
    "#  * four largest elements in this array are 6, 6, 4, and 5 and   *\n",
    "#  * the total sum of these numbers is 21, so your program should *\n",
    "#  * return 21.                                                   *\n",
    "#  *                                                              *\n",
    "#  * If there are less than four numbers in the array your program*\n",
    "#  * should return the sum of all the numbers in the array.       *\n",
    "#  *                                                              *\n",
    "#  * Examples                                                     *\n",
    "#  * Input 1: [1, 1, 1, -5]                                       *\n",
    "#  * Output 1: -2                                                 *\n",
    "#  *                                                              *\n",
    "#  * Input 2: [0, 0, 2, 3, 7, 1]                                  *\n",
    "#  * Output 2: 13                                                 *\n",
    "#  *                                                              * -->\n",
    "# <!--  ***************************************************************/ \n",
    "##LARGEST FOUR CHALLENGE  "
   ]
  },
  {
   "cell_type": "code",
   "execution_count": 8,
   "id": "7bb953a1",
   "metadata": {},
   "outputs": [],
   "source": [
    "import numpy as np\n",
    "\n",
    "def largest_four(arr):\n",
    "    arr.sort()\n",
    "    \n",
    "    if len(arr)>=4:\n",
    "        return np.sum(arr[-4:])\n",
    "    else:\n",
    "        sum(arr)\n",
    "    "
   ]
  },
  {
   "cell_type": "code",
   "execution_count": 10,
   "id": "74398513",
   "metadata": {},
   "outputs": [
    {
     "data": {
      "text/plain": [
       "13"
      ]
     },
     "execution_count": 10,
     "metadata": {},
     "output_type": "execute_result"
    }
   ],
   "source": [
    "largest_four([0, 0, 2, 3, 7, 1] )"
   ]
  },
  {
   "cell_type": "code",
   "execution_count": null,
   "id": "288aac76",
   "metadata": {},
   "outputs": [],
   "source": []
  },
  {
   "cell_type": "code",
   "execution_count": null,
   "id": "5d2919ec",
   "metadata": {},
   "outputs": [],
   "source": []
  }
 ],
 "metadata": {
  "kernelspec": {
   "display_name": "Python 3 (ipykernel)",
   "language": "python",
   "name": "python3"
  },
  "language_info": {
   "codemirror_mode": {
    "name": "ipython",
    "version": 3
   },
   "file_extension": ".py",
   "mimetype": "text/x-python",
   "name": "python",
   "nbconvert_exporter": "python",
   "pygments_lexer": "ipython3",
   "version": "3.10.9"
  }
 },
 "nbformat": 4,
 "nbformat_minor": 5
}
