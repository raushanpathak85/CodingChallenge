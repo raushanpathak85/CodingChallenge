{
 "cells": [
  {
   "cell_type": "code",
   "execution_count": 1,
   "id": "d70af6ad",
   "metadata": {},
   "outputs": [],
   "source": [
    "# For this challenge you will determine if numbers in an array can be sorted in a particular way.\n",
    "# have the function WaveSorting(arr) take the array of positive integers stored \n",
    "# in arr and return the string true if the numbers can be arranged in a wave \n",
    "# pattern: a1 > a2 < a3 > a4 < a5 > ..., otherwise return the string false. \n",
    "# For example, if arr is: [0, 1, 2, 4, 1, 4], then a possible wave ordering of \n",
    "# the numbers is: [2, 0, 4, 1, 4, 1]. So for this input your program should return the string true. \n",
    "# The input array will always contain at least 2 elements. More examples are given below as sample test cases. \n"
   ]
  },
  {
   "cell_type": "code",
   "execution_count": 67,
   "id": "a3e75cbe",
   "metadata": {},
   "outputs": [],
   "source": [
    "# Python function to sort the array arr[0..n-1] in wave form,\n",
    "# i.e., arr[0] >= arr[1] <= arr[2] >= arr[3] <= arr[4] >= arr[5]\n",
    "\n",
    "def sortInWave(arr, n):\n",
    " \n",
    "    # Traverse all even elements\n",
    "    for i in range(0, n - 1, 2):\n",
    "        \n",
    "        # If current even element is smaller than next\n",
    "        if (i < n-1 and arr[i] < arr[i+1]):\n",
    "            arr[i], arr[i+1] = arr[i+1], arr[i]\n",
    " \n",
    "        # If current even element is smaller than previous\n",
    "        if (i > 0 and arr[i] < arr[i-1]):\n",
    "            arr[i], arr[i-1] = arr[i-1], arr[i]\n",
    " \n",
    "       \n",
    "    return arr"
   ]
  },
  {
   "cell_type": "code",
   "execution_count": 68,
   "id": "67a518e4",
   "metadata": {},
   "outputs": [
    {
     "data": {
      "text/plain": [
       "[1, 0, 4, 2, 4, 1]"
      ]
     },
     "execution_count": 68,
     "metadata": {},
     "output_type": "execute_result"
    }
   ],
   "source": [
    "arr=[0, 1, 2, 4, 1, 4]\n",
    "n= len(arr)\n",
    "sortInWave(arr, n)"
   ]
  },
  {
   "cell_type": "code",
   "execution_count": null,
   "id": "4cef2330",
   "metadata": {},
   "outputs": [],
   "source": []
  },
  {
   "cell_type": "code",
   "execution_count": 63,
   "id": "be0f8ebf",
   "metadata": {},
   "outputs": [],
   "source": []
  },
  {
   "cell_type": "code",
   "execution_count": null,
   "id": "0255d448",
   "metadata": {},
   "outputs": [],
   "source": []
  }
 ],
 "metadata": {
  "kernelspec": {
   "display_name": "Python 3 (ipykernel)",
   "language": "python",
   "name": "python3"
  },
  "language_info": {
   "codemirror_mode": {
    "name": "ipython",
    "version": 3
   },
   "file_extension": ".py",
   "mimetype": "text/x-python",
   "name": "python",
   "nbconvert_exporter": "python",
   "pygments_lexer": "ipython3",
   "version": "3.10.9"
  }
 },
 "nbformat": 4,
 "nbformat_minor": 5
}
