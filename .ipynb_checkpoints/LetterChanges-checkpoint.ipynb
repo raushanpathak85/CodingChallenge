{
 "cells": [
  {
   "cell_type": "markdown",
   "id": "54bcd1f8",
   "metadata": {},
   "source": [
    "Have the function LetterChanges(str) take the str parameter being passed and modify it using the following algorithm. Replace every letter in the string with the letter following it in the alphabet (ie. c becomes d, z becomes a). Then capitalize every vowel in this new string (a, e, i, o, u) and finally return this modified string. \n",
    "Sample Test Cases\n",
    "\n",
    "\n",
    "Input:\"hello*3\"\n",
    "\n",
    "Output:Ifmmp*3\n",
    "\n",
    "\n",
    "Input:\"fun times!\"\n",
    "\n",
    "Output:gvO Ujnft!"
   ]
  },
  {
   "cell_type": "code",
   "execution_count": 8,
   "id": "4a886f4b",
   "metadata": {},
   "outputs": [],
   "source": [
    "def LetterChanges(s):\n",
    "    \n",
    "    letter='abcdefghijklmnopqrstuvwxyz'\n",
    "    vowel=['a','e','i','o','u']\n",
    "    new_string=''\n",
    "    \n",
    "    for i in range(len(s)):\n",
    "        if s[i].isalpha():\n",
    "            index=letter.find(s[i])\n",
    "            \n",
    "            if letter[index] != 'z':\n",
    "                temp_letter=letter[index+1]\n",
    "                \n",
    "            if letter[index] == 'z':\n",
    "                temp_letter=letter[0]\n",
    "                \n",
    "            if temp_letter in vowel:\n",
    "                temp_letter=temp_letter.upper()\n",
    "                \n",
    "            new_string=new_string+temp_letter\n",
    "            \n",
    "        else:\n",
    "            new_string=new_string+s[i]\n",
    "    \n",
    "    return new_string\n",
    "                "
   ]
  },
  {
   "cell_type": "code",
   "execution_count": 10,
   "id": "f35502bb",
   "metadata": {},
   "outputs": [
    {
     "data": {
      "text/plain": [
       "'gvO Ujnft!'"
      ]
     },
     "execution_count": 10,
     "metadata": {},
     "output_type": "execute_result"
    }
   ],
   "source": [
    "#call the function here.\n",
    "LetterChanges(\"fun times!\")"
   ]
  },
  {
   "cell_type": "code",
   "execution_count": null,
   "id": "0104fc76",
   "metadata": {},
   "outputs": [],
   "source": []
  }
 ],
 "metadata": {
  "kernelspec": {
   "display_name": "Python 3 (ipykernel)",
   "language": "python",
   "name": "python3"
  },
  "language_info": {
   "codemirror_mode": {
    "name": "ipython",
    "version": 3
   },
   "file_extension": ".py",
   "mimetype": "text/x-python",
   "name": "python",
   "nbconvert_exporter": "python",
   "pygments_lexer": "ipython3",
   "version": "3.10.9"
  }
 },
 "nbformat": 4,
 "nbformat_minor": 5
}
