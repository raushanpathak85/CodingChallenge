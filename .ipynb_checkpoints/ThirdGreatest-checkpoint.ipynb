{
 "cells": [
  {
   "cell_type": "code",
   "execution_count": 1,
   "id": "b6210f10",
   "metadata": {},
   "outputs": [],
   "source": [
    "# # Using the Python language, have the function ThirdGreatest(strArr) take the array of strings stored in strArr \n",
    "# and return the third largest word within in. \n",
    "\n",
    "# So for example: if strArr is [\"hello\", \"world\", \"before\", \"all\"] your output should be world \n",
    "#     because \"before\" is 6 letters long, and \"hello\" and \"world\" are both 5, but the output should be world \n",
    "#     because it appeared as the last 5 letter word in the array. \n",
    "\n",
    "#     If strArr was [\"hello\", \"world\", \"after\", \"all\"] \n",
    "#     the output should be after because the first three words are all 5 letters long, so return the last one. \n",
    "# The array will have at least three strings and each string will only contain letters. \n",
    "\n",
    "# # Use the Parameter Testing feature in the box below to test your code with different arguments."
   ]
  },
  {
   "cell_type": "code",
   "execution_count": 2,
   "id": "46119877",
   "metadata": {},
   "outputs": [],
   "source": [
    "def ThirdGreatest(strArr):\n",
    "    strArr.sort(key=len,reverse=True)\n",
    "    return strArr[2]"
   ]
  },
  {
   "cell_type": "code",
   "execution_count": 3,
   "id": "4db04d26",
   "metadata": {},
   "outputs": [
    {
     "data": {
      "text/plain": [
       "'world'"
      ]
     },
     "execution_count": 3,
     "metadata": {},
     "output_type": "execute_result"
    }
   ],
   "source": [
    "#call function here.\n",
    "ThirdGreatest([\"hello\", \"world\", \"before\", \"all\"] )"
   ]
  },
  {
   "cell_type": "code",
   "execution_count": 4,
   "id": "5a068a72",
   "metadata": {},
   "outputs": [
    {
     "data": {
      "text/plain": [
       "'after'"
      ]
     },
     "execution_count": 4,
     "metadata": {},
     "output_type": "execute_result"
    }
   ],
   "source": [
    "#call function here.\n",
    "ThirdGreatest([\"hello\", \"world\", \"after\", \"all\"])"
   ]
  },
  {
   "cell_type": "code",
   "execution_count": null,
   "id": "f9efd463",
   "metadata": {},
   "outputs": [],
   "source": []
  },
  {
   "cell_type": "code",
   "execution_count": null,
   "id": "75d1451a",
   "metadata": {},
   "outputs": [],
   "source": []
  },
  {
   "cell_type": "code",
   "execution_count": null,
   "id": "37c2eeb6",
   "metadata": {},
   "outputs": [],
   "source": []
  }
 ],
 "metadata": {
  "kernelspec": {
   "display_name": "Python 3 (ipykernel)",
   "language": "python",
   "name": "python3"
  },
  "language_info": {
   "codemirror_mode": {
    "name": "ipython",
    "version": 3
   },
   "file_extension": ".py",
   "mimetype": "text/x-python",
   "name": "python",
   "nbconvert_exporter": "python",
   "pygments_lexer": "ipython3",
   "version": "3.10.9"
  }
 },
 "nbformat": 4,
 "nbformat_minor": 5
}
