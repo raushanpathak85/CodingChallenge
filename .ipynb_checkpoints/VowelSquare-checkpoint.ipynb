{
 "cells": [
  {
   "cell_type": "code",
   "execution_count": null,
   "id": "989a51d2",
   "metadata": {},
   "outputs": [],
   "source": [
    "# Have the function VowelSquare(strArr) take the strArr parameter being passed which will be a 2D matrix of \n",
    "# some arbitrary size filled with letters from the alphabet, and determine if a 2x2 square composed entirely \n",
    "# of vowels exists in the matrix. For example: strArr is [\"abcd\", \"eikr\", \"oufj\"] then this matrix looks like \n",
    "# the following:\n",
    "\n",
    "# a b c d\n",
    "# e i k r\n",
    "# o u f j\n",
    "\n",
    "# Within this matrix there is a 2x2 square of vowels starting in the second row and first column, namely, ei, ou.\n",
    "# If a 2x2 square of vowels is found your program should return the top-left position (row-column) of the square, \n",
    "# so for this example your program should return 1-0. If no 2x2 square of vowels exists, then return the string not found. \n",
    "# If there are multiple squares of vowels, return the one that is at the most top-left position in the whole matrix. \n",
    "# The input matrix will at least be of size 2x2."
   ]
  },
  {
   "cell_type": "code",
   "execution_count": null,
   "id": "89ae9c7b",
   "metadata": {},
   "outputs": [],
   "source": []
  },
  {
   "cell_type": "code",
   "execution_count": 2,
   "id": "dd62e26f",
   "metadata": {},
   "outputs": [
    {
     "name": "stdout",
     "output_type": "stream",
     "text": [
      "[\"abcd\", \"eikr\", \"oufj\"]\n",
      "not found\n"
     ]
    }
   ],
   "source": [
    "def VowelSquare(arr):\n",
    "    check = []\n",
    "    vowel = ['a','e','i','o','u']\n",
    "\n",
    "    for i in range(len(arr)-1):\n",
    "        for j in range(len(arr[i])-1):\n",
    "              if arr[i][j] in vowel and arr[i][j+1] in vowel and arr[i+1][j] in vowel and arr[i+1][j+1] in vowel:\n",
    "                    check.append(str((i,j)).replace(' ','').replace(',','-').strip('()'))\n",
    "\n",
    "    if not check:\n",
    "        print('not found')\n",
    "    else:\n",
    "        print(check[0])\n",
    "\n",
    "VowelSquare(input())"
   ]
  },
  {
   "cell_type": "code",
   "execution_count": null,
   "id": "5634e750",
   "metadata": {},
   "outputs": [],
   "source": []
  },
  {
   "cell_type": "code",
   "execution_count": null,
   "id": "e6a5a665",
   "metadata": {},
   "outputs": [],
   "source": []
  }
 ],
 "metadata": {
  "kernelspec": {
   "display_name": "Python 3 (ipykernel)",
   "language": "python",
   "name": "python3"
  },
  "language_info": {
   "codemirror_mode": {
    "name": "ipython",
    "version": 3
   },
   "file_extension": ".py",
   "mimetype": "text/x-python",
   "name": "python",
   "nbconvert_exporter": "python",
   "pygments_lexer": "ipython3",
   "version": "3.10.9"
  }
 },
 "nbformat": 4,
 "nbformat_minor": 5
}
