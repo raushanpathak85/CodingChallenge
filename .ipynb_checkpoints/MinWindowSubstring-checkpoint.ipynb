{
 "cells": [
  {
   "cell_type": "markdown",
   "id": "507ae1cf",
   "metadata": {},
   "source": [
    "Have the function MinWindowSubstring(strArr) take the array of strings stored in strArr, which will contain only two strings, the first parameter being the string N and the second parameter being a string K of some characters, and your goal is to determine the smallest substring of N that contains all the characters in K. For example: if strArr is [\"aaabaaddae\", \"aed\"] then the smallest substring of N that contains the characters a, e, and d is \"dae\" located at the end of the string. So for this example your program should return the string dae.\n",
    "\n",
    "Another example: if strArr is [\"aabdccdbcacd\", \"aad\"] then the smallest substring of N that contains all of the characters in K is \"aabd\" which is located at the beginning of the string. Both parameters will be strings ranging in length from 1 to 50 characters and all of K's characters will exist somewhere in the string N. Both strings will only contains lowercase alphabetic characters.\n",
    "Examples\n",
    "Input: [\"ahffaksfajeeubsne\", \"jefaa\"]\n",
    "Output: aksfaje"
   ]
  },
  {
   "cell_type": "code",
   "execution_count": 5,
   "id": "2207a20c",
   "metadata": {},
   "outputs": [],
   "source": [
    "def MinWindowsSubString(strArr):\n",
    "    subs=substrings(strArr[0])\n",
    "    subs.sort(key=len)\n",
    "    \n",
    "    for sub in subs:\n",
    "        if ContainAllCharacter(sub,strArr[1]):\n",
    "            return sub\n",
    "        \n",
    "def substrings(string):\n",
    "    subs=[]\n",
    "    for i in range(len(string)):\n",
    "        for j in range(i,len(string)):\n",
    "            subs.append(string[i:j+1])\n",
    "    return subs\n",
    "\n",
    "def ContainAllCharacter(string,other):\n",
    "    array=list(string)\n",
    "    for char in other:\n",
    "        if char in array:\n",
    "            array.remove(char)\n",
    "        else:\n",
    "            return False\n",
    "    return True\n",
    "            "
   ]
  },
  {
   "cell_type": "code",
   "execution_count": 7,
   "id": "6c357813",
   "metadata": {},
   "outputs": [
    {
     "data": {
      "text/plain": [
       "'aksfaje'"
      ]
     },
     "execution_count": 7,
     "metadata": {},
     "output_type": "execute_result"
    }
   ],
   "source": [
    "##Call Function Here.\n",
    "\n",
    "MinWindowsSubString([\"ahffaksfajeeubsne\", \"jefaa\"] )"
   ]
  },
  {
   "cell_type": "code",
   "execution_count": null,
   "id": "6d4cc0af",
   "metadata": {},
   "outputs": [],
   "source": []
  }
 ],
 "metadata": {
  "kernelspec": {
   "display_name": "Python 3 (ipykernel)",
   "language": "python",
   "name": "python3"
  },
  "language_info": {
   "codemirror_mode": {
    "name": "ipython",
    "version": 3
   },
   "file_extension": ".py",
   "mimetype": "text/x-python",
   "name": "python",
   "nbconvert_exporter": "python",
   "pygments_lexer": "ipython3",
   "version": "3.10.9"
  }
 },
 "nbformat": 4,
 "nbformat_minor": 5
}
