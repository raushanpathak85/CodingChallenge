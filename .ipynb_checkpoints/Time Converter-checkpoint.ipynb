{
 "cells": [
  {
   "cell_type": "code",
   "execution_count": null,
   "id": "1df5356a",
   "metadata": {},
   "outputs": [],
   "source": [
    "# Have the function TimeConvert(num) take the num parameter being passed and return \n",
    "# the number of hours and minutes the parameter converts to (ie. if num = 63 then the output should be 1:3). \n",
    "# Separate the number of hours and minutes with a colon."
   ]
  },
  {
   "cell_type": "code",
   "execution_count": 1,
   "id": "db69be50",
   "metadata": {},
   "outputs": [],
   "source": [
    "def TimeConvert(num):\n",
    "    \n",
    "    n=int(num)\n",
    "    hours = n//60\n",
    "    minutes=n%60\n",
    "    \n",
    "    return f\"{hours}:{minutes}\"\n",
    "    "
   ]
  },
  {
   "cell_type": "code",
   "execution_count": null,
   "id": "c7df1706",
   "metadata": {},
   "outputs": [],
   "source": [
    "print(TimeConvert(input()))"
   ]
  },
  {
   "cell_type": "code",
   "execution_count": null,
   "id": "6d4fc064",
   "metadata": {},
   "outputs": [],
   "source": []
  }
 ],
 "metadata": {
  "kernelspec": {
   "display_name": "Python 3 (ipykernel)",
   "language": "python",
   "name": "python3"
  },
  "language_info": {
   "codemirror_mode": {
    "name": "ipython",
    "version": 3
   },
   "file_extension": ".py",
   "mimetype": "text/x-python",
   "name": "python",
   "nbconvert_exporter": "python",
   "pygments_lexer": "ipython3",
   "version": "3.10.9"
  }
 },
 "nbformat": 4,
 "nbformat_minor": 5
}
