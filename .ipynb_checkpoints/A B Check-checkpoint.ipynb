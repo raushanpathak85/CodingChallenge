{
 "cells": [
  {
   "cell_type": "markdown",
   "id": "5ce207c7",
   "metadata": {},
   "source": [
    "For this challenge you will determine if two characters are separated a specific way in the string.\n",
    "take the str parameter being passed and return the string true if the characters a and b are separated by exactly 3 places anywhere in the string at least once \n",
    "\n",
    "(ie. \"lane borrowed\" would result in true because there is exactly three characters between a and b). \n",
    "Otherwise return the string false. \n"
   ]
  },
  {
   "cell_type": "code",
   "execution_count": 1,
   "id": "d37818dd",
   "metadata": {},
   "outputs": [],
   "source": [
    "def AB_Check(string):\n",
    "    \n",
    "    for x in range(len(string)):\n",
    "        if string[x] in ['a','b']:\n",
    "            for i in range(len(string)):\n",
    "                if string[x] == 'a':\n",
    "                    if string[i] == 'b' and abs(x-i) == 4:\n",
    "                        return True\n",
    "                if string[x] == 'b':\n",
    "                    if string[i] == 'a' and abs(x-i) == 4:\n",
    "                        return True\n",
    "    return False\n",
    "                        "
   ]
  },
  {
   "cell_type": "code",
   "execution_count": 5,
   "id": "eaf649c3",
   "metadata": {},
   "outputs": [
    {
     "data": {
      "text/plain": [
       "True"
      ]
     },
     "execution_count": 5,
     "metadata": {},
     "output_type": "execute_result"
    }
   ],
   "source": [
    "## Call function here\n",
    "AB_Check(\"lane borrowed\")"
   ]
  },
  {
   "cell_type": "code",
   "execution_count": null,
   "id": "1b87f9f6",
   "metadata": {},
   "outputs": [],
   "source": []
  },
  {
   "cell_type": "code",
   "execution_count": null,
   "id": "89304774",
   "metadata": {},
   "outputs": [],
   "source": []
  },
  {
   "cell_type": "code",
   "execution_count": null,
   "id": "73ff9648",
   "metadata": {},
   "outputs": [],
   "source": []
  },
  {
   "cell_type": "code",
   "execution_count": null,
   "id": "2d73a68b",
   "metadata": {},
   "outputs": [],
   "source": []
  }
 ],
 "metadata": {
  "kernelspec": {
   "display_name": "Python 3 (ipykernel)",
   "language": "python",
   "name": "python3"
  },
  "language_info": {
   "codemirror_mode": {
    "name": "ipython",
    "version": 3
   },
   "file_extension": ".py",
   "mimetype": "text/x-python",
   "name": "python",
   "nbconvert_exporter": "python",
   "pygments_lexer": "ipython3",
   "version": "3.10.9"
  }
 },
 "nbformat": 4,
 "nbformat_minor": 5
}
