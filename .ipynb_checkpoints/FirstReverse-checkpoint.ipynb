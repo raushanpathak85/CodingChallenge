{
 "cells": [
  {
   "cell_type": "markdown",
   "id": "d8af5cb7",
   "metadata": {},
   "source": [
    "Have the function FirstReverse(str) take the str parameter being passed and return the string in reversed order. For example: if the input string is \"Hello World and Coders\" then your program should return the string sredoC dna dlroW olleH. \n",
    "Sample Test Cases\n",
    "\n",
    "Input:\"coderbyte\"\n",
    "\n",
    "Output:etybredoc\n",
    "\n",
    "\n",
    "Input:\"I Love Code\"\n",
    "\n",
    "Output:edoC evoL I"
   ]
  },
  {
   "cell_type": "code",
   "execution_count": 2,
   "id": "2d07bae4",
   "metadata": {},
   "outputs": [
    {
     "data": {
      "text/plain": [
       "'edoC evoL I'"
      ]
     },
     "execution_count": 2,
     "metadata": {},
     "output_type": "execute_result"
    }
   ],
   "source": [
    "def FirstReverse(s):\n",
    "    return s[::-1]\n",
    "\n",
    "##call function here\n",
    "FirstReverse(\"I Love Code\")"
   ]
  },
  {
   "cell_type": "code",
   "execution_count": null,
   "id": "3b4b9223",
   "metadata": {},
   "outputs": [],
   "source": []
  },
  {
   "cell_type": "code",
   "execution_count": null,
   "id": "5e742516",
   "metadata": {},
   "outputs": [],
   "source": []
  },
  {
   "cell_type": "code",
   "execution_count": null,
   "id": "c328236c",
   "metadata": {},
   "outputs": [],
   "source": []
  }
 ],
 "metadata": {
  "kernelspec": {
   "display_name": "Python 3 (ipykernel)",
   "language": "python",
   "name": "python3"
  },
  "language_info": {
   "codemirror_mode": {
    "name": "ipython",
    "version": 3
   },
   "file_extension": ".py",
   "mimetype": "text/x-python",
   "name": "python",
   "nbconvert_exporter": "python",
   "pygments_lexer": "ipython3",
   "version": "3.10.9"
  }
 },
 "nbformat": 4,
 "nbformat_minor": 5
}
