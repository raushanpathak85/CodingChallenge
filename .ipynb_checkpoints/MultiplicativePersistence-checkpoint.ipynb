{
 "cells": [
  {
   "cell_type": "code",
   "execution_count": 1,
   "id": "a88cea71",
   "metadata": {},
   "outputs": [],
   "source": [
    "# // For this challenge you will be determining the multiplicative persistence for a given number.\n",
    "# // have the function MultiplicativePersistence(num) take the num parameter being passed which \n",
    "# will always be a positive integer and return its multiplicative persistence which is the number of \n",
    "# times you must multiply the digits in num until you reach a single digit. \n",
    "\n",
    "# For example: if num is 39 then your program should return 3 because 3 * 9 = 27 then 2 * 7 = 14 and finally 1 * 4 = 4 and \n",
    "# you stop at 4. \n"
   ]
  },
  {
   "cell_type": "code",
   "execution_count": null,
   "id": "2e122d74",
   "metadata": {},
   "outputs": [],
   "source": []
  },
  {
   "cell_type": "code",
   "execution_count": null,
   "id": "f41c8ac6",
   "metadata": {},
   "outputs": [],
   "source": []
  }
 ],
 "metadata": {
  "kernelspec": {
   "display_name": "Python 3 (ipykernel)",
   "language": "python",
   "name": "python3"
  },
  "language_info": {
   "codemirror_mode": {
    "name": "ipython",
    "version": 3
   },
   "file_extension": ".py",
   "mimetype": "text/x-python",
   "name": "python",
   "nbconvert_exporter": "python",
   "pygments_lexer": "ipython3",
   "version": "3.10.9"
  }
 },
 "nbformat": 4,
 "nbformat_minor": 5
}
