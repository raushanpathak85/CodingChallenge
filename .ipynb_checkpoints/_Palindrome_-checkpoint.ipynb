{
 "cells": [
  {
   "cell_type": "code",
   "execution_count": 1,
   "id": "a53cd1ba",
   "metadata": {},
   "outputs": [],
   "source": [
    "# Have the function Palindrome(str) take the str parameter being passed and return the string true \n",
    "# if the parameter is a palindrome, (the string is the same forward as it is backward) otherwise return the string false. \n",
    "# For example: \"racecar\" is also \"racecar\" backwards. Punctuation and numbers will not be part of the string."
   ]
  },
  {
   "cell_type": "code",
   "execution_count": 41,
   "id": "862fe036",
   "metadata": {},
   "outputs": [],
   "source": [
    "def Palidrome(str_s):\n",
    "    \n",
    "    temp=''\n",
    "    temp1=''\n",
    "    l=len(temp)-1\n",
    "    \n",
    "    for char in str_s:\n",
    "        if char.isalnum():\n",
    "            temp=temp+''.join(char.lower())\n",
    "            \n",
    "    ## opposit of the string\n",
    "    temp1=temp[::-1]\n",
    "    \n",
    "    ## Compare the string is palidrome or not.\n",
    "    if temp == temp1:\n",
    "        return True\n",
    "    else:\n",
    "        return False   \n",
    "    \n",
    "    "
   ]
  },
  {
   "cell_type": "code",
   "execution_count": 43,
   "id": "ea7cec36",
   "metadata": {},
   "outputs": [
    {
     "data": {
      "text/plain": [
       "True"
      ]
     },
     "execution_count": 43,
     "metadata": {},
     "output_type": "execute_result"
    }
   ],
   "source": [
    "Palidrome('racecar')"
   ]
  },
  {
   "cell_type": "code",
   "execution_count": 47,
   "id": "eea8d095",
   "metadata": {},
   "outputs": [
    {
     "name": "stdout",
     "output_type": "stream",
     "text": [
      "racecar\n",
      "true\n"
     ]
    }
   ],
   "source": [
    "## Second Method\n",
    "def Palindrome(strParam):\n",
    "    # Prepare the string removing spaces and converting to lowercase for a case-insensitive check\n",
    "    temp = ''.join(char.lower() for char in strParam if char.isalnum())\n",
    "    size = len(temp) - 1\n",
    "\n",
    "    for x in range(len(temp)):\n",
    "        if temp[x] != temp[size]:\n",
    "            return \"false\"\n",
    "        size -= 1\n",
    "\n",
    "    return \"true\"\n",
    "\n",
    "# keep this function call here \n",
    "print(Palindrome(input()))"
   ]
  },
  {
   "cell_type": "code",
   "execution_count": null,
   "id": "b5adbf76",
   "metadata": {},
   "outputs": [],
   "source": []
  }
 ],
 "metadata": {
  "kernelspec": {
   "display_name": "Python 3 (ipykernel)",
   "language": "python",
   "name": "python3"
  },
  "language_info": {
   "codemirror_mode": {
    "name": "ipython",
    "version": 3
   },
   "file_extension": ".py",
   "mimetype": "text/x-python",
   "name": "python",
   "nbconvert_exporter": "python",
   "pygments_lexer": "ipython3",
   "version": "3.10.9"
  }
 },
 "nbformat": 4,
 "nbformat_minor": 5
}
