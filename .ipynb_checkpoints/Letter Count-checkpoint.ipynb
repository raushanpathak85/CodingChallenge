{
 "cells": [
  {
   "cell_type": "code",
   "execution_count": null,
   "id": "a1bb10ef",
   "metadata": {},
   "outputs": [],
   "source": [
    "# For this challenge you will determine which word has the greatest number of repeated letters.\n",
    "# take the str parameter being passed and return the first word with the greatest number of repeated letters. \n",
    "\n",
    "#For example: \"Today, is the greatest day ever!\" should return greatest because it has 2 e's (and 2 t's) \n",
    "# and it comes before ever which also has 2 e's. If there are no words with repeating letters return -1. \n",
    "# Words will be separated by spaces."
   ]
  },
  {
   "cell_type": "code",
   "execution_count": 11,
   "id": "8fb72fc3",
   "metadata": {},
   "outputs": [],
   "source": [
    "def letter_count(s):\n",
    "    words=s.split(' ')\n",
    "    \n",
    "    max_count=1\n",
    "    max_word=''\n",
    "    \n",
    "    for word in words:\n",
    "        dicts={}\n",
    "        count=0\n",
    "        \n",
    "        for char in word:\n",
    "            dicts[char]=dicts.get(char,0) +1\n",
    "            \n",
    "            if dicts[char]>count:\n",
    "                count=dicts[char]\n",
    "        \n",
    "        if count>max_count:\n",
    "            max_count=count\n",
    "            max_word=word\n",
    "    \n",
    "    return max_word if max_word else -1            \n",
    "            "
   ]
  },
  {
   "cell_type": "code",
   "execution_count": 12,
   "id": "bf9a4e65",
   "metadata": {},
   "outputs": [
    {
     "data": {
      "text/plain": [
       "'Hello'"
      ]
     },
     "execution_count": 12,
     "metadata": {},
     "output_type": "execute_result"
    }
   ],
   "source": [
    "letter_count(\"Hello Apple pie\")"
   ]
  },
  {
   "cell_type": "code",
   "execution_count": null,
   "id": "751c4aa0",
   "metadata": {},
   "outputs": [],
   "source": []
  },
  {
   "cell_type": "code",
   "execution_count": null,
   "id": "ceace01d",
   "metadata": {},
   "outputs": [],
   "source": []
  },
  {
   "cell_type": "code",
   "execution_count": null,
   "id": "6a179514",
   "metadata": {},
   "outputs": [],
   "source": []
  },
  {
   "cell_type": "code",
   "execution_count": null,
   "id": "cfaae121",
   "metadata": {},
   "outputs": [],
   "source": []
  }
 ],
 "metadata": {
  "kernelspec": {
   "display_name": "Python 3 (ipykernel)",
   "language": "python",
   "name": "python3"
  },
  "language_info": {
   "codemirror_mode": {
    "name": "ipython",
    "version": 3
   },
   "file_extension": ".py",
   "mimetype": "text/x-python",
   "name": "python",
   "nbconvert_exporter": "python",
   "pygments_lexer": "ipython3",
   "version": "3.10.9"
  }
 },
 "nbformat": 4,
 "nbformat_minor": 5
}
