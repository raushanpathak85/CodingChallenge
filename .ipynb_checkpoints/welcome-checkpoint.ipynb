{
 "cells": [
  {
   "cell_type": "markdown",
   "id": "b60a719e",
   "metadata": {},
   "source": [
    "# Welcome to the Coding Challenge"
   ]
  },
  {
   "cell_type": "markdown",
   "id": "1577c45b",
   "metadata": {},
   "source": [
    "# \" We are going to do some coding Challenge\""
   ]
  },
  {
   "cell_type": "code",
   "execution_count": null,
   "id": "89ba1112",
   "metadata": {},
   "outputs": [],
   "source": []
  },
  {
   "cell_type": "code",
   "execution_count": null,
   "id": "68ba2728",
   "metadata": {},
   "outputs": [],
   "source": []
  }
 ],
 "metadata": {
  "kernelspec": {
   "display_name": "Python 3 (ipykernel)",
   "language": "python",
   "name": "python3"
  },
  "language_info": {
   "codemirror_mode": {
    "name": "ipython",
    "version": 3
   },
   "file_extension": ".py",
   "mimetype": "text/x-python",
   "name": "python",
   "nbconvert_exporter": "python",
   "pygments_lexer": "ipython3",
   "version": "3.10.9"
  }
 },
 "nbformat": 4,
 "nbformat_minor": 5
}
