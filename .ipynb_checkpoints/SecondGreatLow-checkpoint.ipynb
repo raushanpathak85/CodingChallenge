{
 "cells": [
  {
   "cell_type": "code",
   "execution_count": 1,
   "id": "0f85142f",
   "metadata": {},
   "outputs": [],
   "source": [
    "#Have the function SecondGreatLow(arr) take the array of numbers stored in arr and return the \n",
    "#second lowest and second greatest numbers, respectively, separated by a space. \n",
    "\n",
    "#For example: if arr contains [7, 7, 12, 98, 106] the output should be 12 98. \n",
    "#The array will not be empty and will contain at least 2 numbers. It can get tricky if there's just two numbers! \n",
    "\n",
    "# Use the Parameter Testing feature in the box below to test your code with different arguments."
   ]
  },
  {
   "cell_type": "code",
   "execution_count": 12,
   "id": "e5057cc7",
   "metadata": {},
   "outputs": [],
   "source": [
    "def SecondGreatLow(arr):\n",
    "    new_arr=sorted(set(arr))\n",
    "    \n",
    "    print('%d %d' %(new_arr[1],new_arr[-2]))"
   ]
  },
  {
   "cell_type": "code",
   "execution_count": 13,
   "id": "7cb332ee",
   "metadata": {},
   "outputs": [
    {
     "name": "stdout",
     "output_type": "stream",
     "text": [
      "12 98\n"
     ]
    }
   ],
   "source": [
    "#CALL FUNCTION HERE\n",
    "SecondGreatLow([7, 7, 12, 98, 106])"
   ]
  },
  {
   "cell_type": "code",
   "execution_count": null,
   "id": "1daf2f94",
   "metadata": {},
   "outputs": [],
   "source": []
  },
  {
   "cell_type": "code",
   "execution_count": null,
   "id": "7c81f59e",
   "metadata": {},
   "outputs": [],
   "source": []
  },
  {
   "cell_type": "code",
   "execution_count": null,
   "id": "34b0fc4a",
   "metadata": {},
   "outputs": [],
   "source": []
  },
  {
   "cell_type": "code",
   "execution_count": null,
   "id": "50e4aecd",
   "metadata": {},
   "outputs": [],
   "source": []
  },
  {
   "cell_type": "code",
   "execution_count": null,
   "id": "71cec5ab",
   "metadata": {},
   "outputs": [],
   "source": []
  }
 ],
 "metadata": {
  "kernelspec": {
   "display_name": "Python 3 (ipykernel)",
   "language": "python",
   "name": "python3"
  },
  "language_info": {
   "codemirror_mode": {
    "name": "ipython",
    "version": 3
   },
   "file_extension": ".py",
   "mimetype": "text/x-python",
   "name": "python",
   "nbconvert_exporter": "python",
   "pygments_lexer": "ipython3",
   "version": "3.10.9"
  }
 },
 "nbformat": 4,
 "nbformat_minor": 5
}
