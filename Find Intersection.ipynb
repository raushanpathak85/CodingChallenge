{
 "cells": [
  {
   "cell_type": "markdown",
   "id": "e44ccfe6",
   "metadata": {},
   "source": [
    "Find Intersection\n",
    "\n",
    "Have the function FindIntersection(strArr) read the array of strings stored in strArr which will contain 2 elements: the first element will represent a list of comma-separated numbers sorted in ascending order, the second element will represent a second list of comma-separated numbers (also sorted). Your goal is to return a comma-separated string containing the numbers that occur in elements of strArr in sorted order. If there is no intersection, return the string false.\n",
    "Examples\n",
    "Input: [\"1, 3, 4, 7, 13\", \"1, 2, 4, 13, 15\"]\n",
    "Output: 1,4,13\n",
    "Input: [\"1, 3, 9, 10, 17, 18\", \"1, 4, 9, 10\"]\n",
    "Output: 1,9,10"
   ]
  },
  {
   "cell_type": "code",
   "execution_count": 145,
   "id": "49f5f0b4",
   "metadata": {},
   "outputs": [],
   "source": [
    "def FindIntersection1(strArr):\n",
    "    \n",
    "    ##\n",
    "    first_element= strArr[0].split(',')\n",
    "    second_element=strArr[1].split(',')\n",
    "    \n",
    "    l1=[]\n",
    "    l2=[]\n",
    "    \n",
    "    for i in first_element:\n",
    "        l1.append(int(i))\n",
    "        \n",
    "    for j in second_element:\n",
    "        l2.append(int(j))\n",
    "        \n",
    "    set1=set(l1)\n",
    "    set2=set(l2)\n",
    "    \n",
    "    intersection=set1 & set2\n",
    "    \n",
    "    #convert intersection to list and then print\n",
    "    temp_list=sorted(list(intersection))\n",
    "    result= ','.join(map(str,temp_list))\n",
    "    print(result)\n",
    "    "
   ]
  },
  {
   "cell_type": "code",
   "execution_count": 146,
   "id": "2346d2ed",
   "metadata": {},
   "outputs": [
    {
     "name": "stdout",
     "output_type": "stream",
     "text": [
      "1,9,10\n"
     ]
    }
   ],
   "source": [
    "FindIntersection1([\"1, 3, 9, 10, 17, 18\", \"1, 4, 9, 10\"])"
   ]
  },
  {
   "cell_type": "code",
   "execution_count": null,
   "id": "14d285f3",
   "metadata": {},
   "outputs": [],
   "source": []
  }
 ],
 "metadata": {
  "kernelspec": {
   "display_name": "Python 3 (ipykernel)",
   "language": "python",
   "name": "python3"
  },
  "language_info": {
   "codemirror_mode": {
    "name": "ipython",
    "version": 3
   },
   "file_extension": ".py",
   "mimetype": "text/x-python",
   "name": "python",
   "nbconvert_exporter": "python",
   "pygments_lexer": "ipython3",
   "version": "3.10.9"
  }
 },
 "nbformat": 4,
 "nbformat_minor": 5
}
