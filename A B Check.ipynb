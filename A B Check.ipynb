{
 "cells": [
  {
   "cell_type": "markdown",
   "id": "59083fec",
   "metadata": {},
   "source": [
    "For this challenge you will determine if two characters are separated a specific way in the string.\n",
    "take the str parameter being passed and return the string true if the characters a and b are separated by exactly 3 places anywhere in the string at least once \n",
    "\n",
    "(ie. \"lane borrowed\" would result in true because there is exactly three characters between a and b). \n",
    "Otherwise return the string false. \n"
   ]
  },
  {
   "cell_type": "code",
   "execution_count": null,
   "id": "a4bc4b42",
   "metadata": {},
   "outputs": [],
   "source": []
  },
  {
   "cell_type": "code",
   "execution_count": null,
   "id": "42ec4b48",
   "metadata": {},
   "outputs": [],
   "source": []
  }
 ],
 "metadata": {
  "kernelspec": {
   "display_name": "Python 3 (ipykernel)",
   "language": "python",
   "name": "python3"
  },
  "language_info": {
   "codemirror_mode": {
    "name": "ipython",
    "version": 3
   },
   "file_extension": ".py",
   "mimetype": "text/x-python",
   "name": "python",
   "nbconvert_exporter": "python",
   "pygments_lexer": "ipython3",
   "version": "3.10.9"
  }
 },
 "nbformat": 4,
 "nbformat_minor": 5
}
