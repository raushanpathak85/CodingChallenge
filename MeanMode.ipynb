{
 "cells": [
  {
   "cell_type": "code",
   "execution_count": 1,
   "id": "97fc22a7",
   "metadata": {},
   "outputs": [],
   "source": [
    "# For this challenge you will determine if the mode equals the mean in an array.\n",
    "# have the function MeanMode(arr).\n",
    "# take the array of numbers stored in arr and return 1 if the mode equals the mean, 0 \n",
    "# if they don't equal each other (ie. [5, 3, 3, 3, 1] should return 1 because the mode (3) equals the mean (3)). \n",
    "# The array will not be empty, will only contain positive integers, and will not contain more than one mode. \n"
   ]
  },
  {
   "cell_type": "code",
   "execution_count": 2,
   "id": "8640ca0c",
   "metadata": {},
   "outputs": [],
   "source": [
    "def  MeanMode(arr):\n",
    "    \n",
    "    avg=sum(arr)/len(arr)\n",
    "    mode=0\n",
    "    \n",
    "    for i in set(arr):\n",
    "        if arr.count(i) > arr.count(mode):\n",
    "            mode=i\n",
    "    \n",
    "    if avg == mode:\n",
    "        return 1\n",
    "    else:\n",
    "        return 0"
   ]
  },
  {
   "cell_type": "code",
   "execution_count": 3,
   "id": "e682dfde",
   "metadata": {},
   "outputs": [
    {
     "data": {
      "text/plain": [
       "1"
      ]
     },
     "execution_count": 3,
     "metadata": {},
     "output_type": "execute_result"
    }
   ],
   "source": [
    "#call function here.\n",
    "\n",
    "MeanMode([5, 3, 3, 3, 1])"
   ]
  },
  {
   "cell_type": "code",
   "execution_count": null,
   "id": "0d57fce6",
   "metadata": {},
   "outputs": [],
   "source": []
  },
  {
   "cell_type": "code",
   "execution_count": null,
   "id": "57208c5f",
   "metadata": {},
   "outputs": [],
   "source": []
  }
 ],
 "metadata": {
  "kernelspec": {
   "display_name": "Python 3 (ipykernel)",
   "language": "python",
   "name": "python3"
  },
  "language_info": {
   "codemirror_mode": {
    "name": "ipython",
    "version": 3
   },
   "file_extension": ".py",
   "mimetype": "text/x-python",
   "name": "python",
   "nbconvert_exporter": "python",
   "pygments_lexer": "ipython3",
   "version": "3.10.9"
  }
 },
 "nbformat": 4,
 "nbformat_minor": 5
}
