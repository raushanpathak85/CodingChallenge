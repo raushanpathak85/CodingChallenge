{
 "cells": [
  {
   "cell_type": "code",
   "execution_count": null,
   "id": "4af857ed",
   "metadata": {},
   "outputs": [],
   "source": [
    "# Have the function LongestWord(sen) take the sen parameter being passed and return the largest word in the string. \n",
    "# If there are two or more words that are the same length, return the first word from the string with that length. \n",
    "# Ignore punctuation and assume sen will not be empty."
   ]
  },
  {
   "cell_type": "code",
   "execution_count": 16,
   "id": "8eed395e",
   "metadata": {},
   "outputs": [],
   "source": [
    "import string\n",
    "\n",
    "def longest_word(sen):\n",
    "    \n",
    "    max_word=''\n",
    "    max_length=0\n",
    "    \n",
    "    ## Sentence should not blank.\n",
    "    if sen == '':\n",
    "        return \"\"\n",
    "    \n",
    "    ## check Punctuation in sentence and replace with \"\".\n",
    "    punc=string.punctuation\n",
    "    \n",
    "    for x in punc:\n",
    "        sen=sen.replace(x,'')\n",
    "    \n",
    "    list1=[]\n",
    "    words=sen.split(' ')\n",
    "    \n",
    "    ##Count the length of each word.\n",
    "    for word in words:\n",
    "        if len(word) > max_length:\n",
    "            max_word=word\n",
    "            max_length=len(word)\n",
    "            \n",
    "    ## Return the longest word.\n",
    "    return max_word\n"
   ]
  },
  {
   "cell_type": "code",
   "execution_count": 18,
   "id": "dc817c56",
   "metadata": {},
   "outputs": [
    {
     "data": {
      "text/plain": [
       "'whatisgoingonherenowthisiscrazy'"
      ]
     },
     "execution_count": 18,
     "metadata": {},
     "output_type": "execute_result"
    }
   ],
   "source": [
    "longest_word(\"itsdsfsfs lovdsdsadsae dogsss  testi!!!!!!!!!!!!!!@!#@#@#@#@#@#@#@#@!!!! helllo whatisgoingonherenowthisiscrazy who did this\")"
   ]
  },
  {
   "cell_type": "code",
   "execution_count": null,
   "id": "40484661",
   "metadata": {},
   "outputs": [],
   "source": []
  }
 ],
 "metadata": {
  "kernelspec": {
   "display_name": "Python 3 (ipykernel)",
   "language": "python",
   "name": "python3"
  },
  "language_info": {
   "codemirror_mode": {
    "name": "ipython",
    "version": 3
   },
   "file_extension": ".py",
   "mimetype": "text/x-python",
   "name": "python",
   "nbconvert_exporter": "python",
   "pygments_lexer": "ipython3",
   "version": "3.10.9"
  }
 },
 "nbformat": 4,
 "nbformat_minor": 5
}
